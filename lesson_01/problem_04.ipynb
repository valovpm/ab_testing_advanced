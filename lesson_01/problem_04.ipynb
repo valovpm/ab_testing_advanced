{
 "cells": [
  {
   "metadata": {},
   "cell_type": "markdown",
   "source": [
    "# Calculating average time between user login and first sale (PARLA)\n",
    "\n",
    "## Problem\n",
    "Estimate the average time between a user's visit to the website and the corresponding purchase:\n",
    "- A visit is considered related to a purchase if it occurred no earlier than two hours before the purchase.\n",
    "- I.e. for each purchase you need to calculate the time between the purchase and the earliest website visit by the same user within the two hours prior to the purchase.\n",
    "- Then, compute the average of these time intervals\n",
    "\n",
    "## Action\n",
    "- I loaded web-logs data and sales data from CSV files\n",
    "- I filtered and ordered the data\n",
    "- I merged, filtered and transformed the datasets into a single dataset\n",
    "- I calculated average interval by grouping and aggregating the dataset\n",
    "\n",
    "## Result\n",
    "- I successfully calculated the average interval between login and sale\n",
    "\n",
    "## Learning\n",
    "- I revised relevant python and pandas functions\n",
    "\n",
    "## Application\n",
    "- I can apply the relevant python and pandas functions for data-related problems"
   ],
   "id": "72a369173c136e75"
  },
  {
   "cell_type": "code",
   "id": "bc2a9d09-694d-4f20-ba7e-116f70753a74",
   "metadata": {
    "ExecuteTime": {
     "end_time": "2025-05-11T15:09:59.114801Z",
     "start_time": "2025-05-11T15:09:58.746553Z"
    }
   },
   "source": [
    "\n",
    "import pandas as pd\n"
   ],
   "outputs": [],
   "execution_count": 2
  },
  {
   "cell_type": "code",
   "id": "442ce1af-5c50-4ea9-ade5-be076ff33180",
   "metadata": {
    "ExecuteTime": {
     "end_time": "2025-05-11T17:08:56.584844Z",
     "start_time": "2025-05-11T17:08:56.012275Z"
    }
   },
   "source": [
    "\n",
    "# load and prepare sales info\n",
    "df_sales = pd.read_csv('2022-04-01T12_df_sales.csv')\n",
    "df_sales = df_sales[['user_id', 'date']]\n",
    "df_sales = df_sales.sort_values(['user_id', 'date'])\n",
    "df_sales = df_sales.rename(columns={'user_id': 'user_id', 'date': 'sale'})\n",
    "df_sales.head()\n"
   ],
   "outputs": [
    {
     "data": {
      "text/plain": [
       "       user_id                 sale\n",
       "101925  000096  2022-03-04 11:15:55\n",
       "168536  000096  2022-03-22 13:16:09\n",
       "90423   0000d4  2022-02-28 16:32:09\n",
       "186586  0000d4  2022-03-27 11:26:30\n",
       "28831   0000de  2022-02-11 18:57:15"
      ],
      "text/html": [
       "<div>\n",
       "<style scoped>\n",
       "    .dataframe tbody tr th:only-of-type {\n",
       "        vertical-align: middle;\n",
       "    }\n",
       "\n",
       "    .dataframe tbody tr th {\n",
       "        vertical-align: top;\n",
       "    }\n",
       "\n",
       "    .dataframe thead th {\n",
       "        text-align: right;\n",
       "    }\n",
       "</style>\n",
       "<table border=\"1\" class=\"dataframe\">\n",
       "  <thead>\n",
       "    <tr style=\"text-align: right;\">\n",
       "      <th></th>\n",
       "      <th>user_id</th>\n",
       "      <th>sale</th>\n",
       "    </tr>\n",
       "  </thead>\n",
       "  <tbody>\n",
       "    <tr>\n",
       "      <th>101925</th>\n",
       "      <td>000096</td>\n",
       "      <td>2022-03-04 11:15:55</td>\n",
       "    </tr>\n",
       "    <tr>\n",
       "      <th>168536</th>\n",
       "      <td>000096</td>\n",
       "      <td>2022-03-22 13:16:09</td>\n",
       "    </tr>\n",
       "    <tr>\n",
       "      <th>90423</th>\n",
       "      <td>0000d4</td>\n",
       "      <td>2022-02-28 16:32:09</td>\n",
       "    </tr>\n",
       "    <tr>\n",
       "      <th>186586</th>\n",
       "      <td>0000d4</td>\n",
       "      <td>2022-03-27 11:26:30</td>\n",
       "    </tr>\n",
       "    <tr>\n",
       "      <th>28831</th>\n",
       "      <td>0000de</td>\n",
       "      <td>2022-02-11 18:57:15</td>\n",
       "    </tr>\n",
       "  </tbody>\n",
       "</table>\n",
       "</div>"
      ]
     },
     "execution_count": 10,
     "metadata": {},
     "output_type": "execute_result"
    }
   ],
   "execution_count": 10
  },
  {
   "cell_type": "code",
   "id": "5643e07a-72c3-4e00-b54e-0ab39343e9b3",
   "metadata": {
    "ExecuteTime": {
     "end_time": "2025-05-11T17:09:02.075040Z",
     "start_time": "2025-05-11T17:08:58.109795Z"
    }
   },
   "source": [
    "\n",
    "# load and prepare web-logs info\n",
    "df_logs = pd.read_csv('2022-04-01T12_df_web_logs.csv')\n",
    "df_logs = df_logs[['user_id', 'date']]\n",
    "df_logs = df_logs.sort_values(['user_id', 'date'])\n",
    "df_logs = df_logs.rename(columns={'user_id': 'user_id', 'date': 'login'})\n",
    "df_logs.head()\n"
   ],
   "outputs": [
    {
     "data": {
      "text/plain": [
       "       user_id                login\n",
       "983633  000096  2022-03-04 10:58:01\n",
       "983704  000096  2022-03-04 11:00:02\n",
       "983803  000096  2022-03-04 11:02:40\n",
       "983890  000096  2022-03-04 11:04:37\n",
       "984189  000096  2022-03-04 11:12:36"
      ],
      "text/html": [
       "<div>\n",
       "<style scoped>\n",
       "    .dataframe tbody tr th:only-of-type {\n",
       "        vertical-align: middle;\n",
       "    }\n",
       "\n",
       "    .dataframe tbody tr th {\n",
       "        vertical-align: top;\n",
       "    }\n",
       "\n",
       "    .dataframe thead th {\n",
       "        text-align: right;\n",
       "    }\n",
       "</style>\n",
       "<table border=\"1\" class=\"dataframe\">\n",
       "  <thead>\n",
       "    <tr style=\"text-align: right;\">\n",
       "      <th></th>\n",
       "      <th>user_id</th>\n",
       "      <th>login</th>\n",
       "    </tr>\n",
       "  </thead>\n",
       "  <tbody>\n",
       "    <tr>\n",
       "      <th>983633</th>\n",
       "      <td>000096</td>\n",
       "      <td>2022-03-04 10:58:01</td>\n",
       "    </tr>\n",
       "    <tr>\n",
       "      <th>983704</th>\n",
       "      <td>000096</td>\n",
       "      <td>2022-03-04 11:00:02</td>\n",
       "    </tr>\n",
       "    <tr>\n",
       "      <th>983803</th>\n",
       "      <td>000096</td>\n",
       "      <td>2022-03-04 11:02:40</td>\n",
       "    </tr>\n",
       "    <tr>\n",
       "      <th>983890</th>\n",
       "      <td>000096</td>\n",
       "      <td>2022-03-04 11:04:37</td>\n",
       "    </tr>\n",
       "    <tr>\n",
       "      <th>984189</th>\n",
       "      <td>000096</td>\n",
       "      <td>2022-03-04 11:12:36</td>\n",
       "    </tr>\n",
       "  </tbody>\n",
       "</table>\n",
       "</div>"
      ]
     },
     "execution_count": 11,
     "metadata": {},
     "output_type": "execute_result"
    }
   ],
   "execution_count": 11
  },
  {
   "cell_type": "code",
   "id": "102d40a8-e2f9-4aa6-901b-2d52b29698d5",
   "metadata": {
    "ExecuteTime": {
     "end_time": "2025-05-11T17:47:31.456747Z",
     "start_time": "2025-05-11T17:47:26.058299Z"
    }
   },
   "source": [
    "\n",
    "df = pd.merge(df_logs, df_sales, how='inner', on='user_id')\n",
    "df.login = pd.to_datetime(df.login)\n",
    "df.sale = pd.to_datetime(df.sale)\n",
    "df = df[df.login < df.sale]  # keep only valid login-sale pairs\n",
    "df = df[df.login >= df.sale - pd.Timedelta(hours=2)]  # keep logins in a two-hour window\n",
    "df = df.groupby(['user_id', 'sale'])[['login']].min().reset_index()  # for each sale, find the earliest login\n",
    "df['delta'] = df.sale - df.login\n",
    "df['delta2'] = df.delta.dt.total_seconds()\n",
    "avg_delta = round(df.delta2.mean() / 60)\n",
    "avg_delta\n"
   ],
   "outputs": [
    {
     "data": {
      "text/plain": [
       "17"
      ]
     },
     "execution_count": 27,
     "metadata": {},
     "output_type": "execute_result"
    }
   ],
   "execution_count": 27
  }
 ],
 "metadata": {
  "kernelspec": {
   "display_name": "Python 3 (ipykernel)",
   "language": "python",
   "name": "python3"
  },
  "language_info": {
   "codemirror_mode": {
    "name": "ipython",
    "version": 3
   },
   "file_extension": ".py",
   "mimetype": "text/x-python",
   "name": "python",
   "nbconvert_exporter": "python",
   "pygments_lexer": "ipython3",
   "version": "3.12.6"
  }
 },
 "nbformat": 4,
 "nbformat_minor": 5
}
