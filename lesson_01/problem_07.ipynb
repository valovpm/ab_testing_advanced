{
 "cells": [
  {
   "metadata": {},
   "cell_type": "markdown",
   "source": [
    "\n",
    "# Write a function that filters dataframe, using provided parameters (PARLA)\n",
    "\n",
    "## Problem\n",
    "- Write a function that filters a given dataframe based on the following parameters:\n",
    "    - begin_date: start of the date range (inclusive)\n",
    "    - end_date: the end of the date range (exclusive)\n",
    "    - user_ids: a list of user ids to filter the data by\n",
    "    - columns: a list of column names to retain in the output\n",
    "    - If any of these parameters are not provided, the function just skips that step\n",
    "\n",
    "## Action\n",
    "- I implemented the function, using python and pandas\n",
    "\n",
    "## Result\n",
    "- The function successfully passed all tests\n",
    "\n",
    "## Learning\n",
    "- I revised relevant python and pandas functions\n",
    "\n",
    "## Application\n",
    "- I can apply the relevant python and pandas functions for data-related problems"
   ],
   "id": "390ccbb06cdaf360"
  },
  {
   "metadata": {
    "ExecuteTime": {
     "end_time": "2025-05-11T19:28:21.673135Z",
     "start_time": "2025-05-11T19:28:21.666391Z"
    }
   },
   "cell_type": "code",
   "source": [
    "\n",
    "from typing import Optional, List\n",
    "import datetime as dt\n",
    "import pandas as pd\n",
    "\n",
    "\n",
    "def get_data_subset(\n",
    "    df: pd.DataFrame,\n",
    "    begin_date: Optional[dt.datetime],\n",
    "    end_date: Optional[dt.datetime],\n",
    "    user_ids: Optional[List[str]] = None,\n",
    "    columns: Optional[List[str]] = None\n",
    ") -> pd.DataFrame:\n",
    "    \"\"\"\n",
    "    Returns a filtered subset of the input DataFrame based on:\n",
    "    - optional date range,\n",
    "    - user ID list,\n",
    "    - selected columns\n",
    "\n",
    "    :param df:\n",
    "        input DataFrame\n",
    "        must contain at least 'date' and 'user_id' columns\n",
    "    :param begin_date:\n",
    "        start of the date range (inclusive)\n",
    "        if provided, only rows where 'date' >= begin_date are kept\n",
    "        if None, this filter is skipped\n",
    "    :param end_date:\n",
    "        the end of the date range (exclusive)\n",
    "        if provided, only rows where 'date' < end_date are kept\n",
    "        if None, skip this filter\n",
    "    :param user_ids:\n",
    "        a list of user ids to filter the data by.\n",
    "        if provided, only rows where 'user_id' is in this list are kept\n",
    "        if None, skip this filter\n",
    "    :param columns:\n",
    "        a list of column names to retain in the output\n",
    "        if provided, keep only these columns\n",
    "        if None, return all columns\n",
    "    :return:\n",
    "    \"\"\"\n",
    "\n",
    "    # Filter by 'begin_date'\n",
    "    if begin_date:\n",
    "        df = df[df['date'] >= begin_date]\n",
    "\n",
    "    # Filter by 'end_date'\n",
    "    if end_date:\n",
    "        df = df[df['date'] < end_date]\n",
    "\n",
    "    # Filter by 'user_ids'\n",
    "    if user_ids:\n",
    "        df = df[df['user_id'].isin(user_ids)]\n",
    "\n",
    "    # Filter by 'columns' and return 'df'\n",
    "    if columns:\n",
    "        return df[columns]\n",
    "    else:\n",
    "        return df\n",
    "\n"
   ],
   "id": "68671dc1-ed71-4ae6-b668-42675def563b",
   "outputs": [],
   "execution_count": 3
  },
  {
   "cell_type": "code",
   "id": "496e0c4e-78cd-4918-9002-6ba1e67042a1",
   "metadata": {
    "ExecuteTime": {
     "end_time": "2025-05-11T19:29:08.612034Z",
     "start_time": "2025-05-11T19:29:08.601283Z"
    }
   },
   "source": [
    "\n",
    "# test the function\n",
    "test = pd.DataFrame({\n",
    "    'date': [dt.datetime(2022, 1, 5), dt.datetime(2022, 1, 7)],\n",
    "    'user_id': ['1', '2'],\n",
    "})\n",
    "\n",
    "answer = pd.DataFrame({\n",
    "    'date': [dt.datetime(2022, 1, 5)],\n",
    "    'user_id': ['1'],\n",
    "})\n",
    "\n",
    "result = get_data_subset(test, dt.datetime(2022, 1, 1), dt.datetime(2022, 1, 6))\n",
    "\n",
    "result.equals(answer)\n"
   ],
   "outputs": [
    {
     "data": {
      "text/plain": [
       "True"
      ]
     },
     "execution_count": 5,
     "metadata": {},
     "output_type": "execute_result"
    }
   ],
   "execution_count": 5
  }
 ],
 "metadata": {
  "kernelspec": {
   "display_name": "Python 3 (ipykernel)",
   "language": "python",
   "name": "python3"
  },
  "language_info": {
   "codemirror_mode": {
    "name": "ipython",
    "version": 3
   },
   "file_extension": ".py",
   "mimetype": "text/x-python",
   "name": "python",
   "nbconvert_exporter": "python",
   "pygments_lexer": "ipython3",
   "version": "3.12.6"
  }
 },
 "nbformat": 4,
 "nbformat_minor": 5
}
