{
 "cells": [
  {
   "metadata": {},
   "cell_type": "markdown",
   "source": [
    "\n",
    "# PARLA\n",
    "\n",
    "## Problem\n",
    "The provided dataset contains a portion of the 'Refactoring backend' experiment data:\n",
    "- 500 values from both the experimental and control groups.\n",
    "- column 'a' contains 'load time' for control group of users.\n",
    "- column 'b' contains 'load time' for experimental group of users.\n",
    "\n",
    "Test the hypothesis of equality of the 99th percentiles, using bootstrap:\n",
    "- construct a 90% confidence interval for the difference between the 99th percentiles of the control and experimental groups.\n",
    "- assess the significance of the difference.\n",
    "- try to use as many bootstrap samples as possible.\n",
    "- remember that a small number of bootstrap samples can lead to unstable results.\n",
    "\n",
    "## Action\n",
    "To test the hypothesis of equality of the 99th percentiles, I:\n",
    "- calculated 10^5 bootstrapped 99th-percentile deltas:\n",
    "    - sampled control and experimental groups with repetitions (since bootstrap requires sampling with repetition)\n",
    "    - calculated 99th-percentile for control-group and experimental-group\n",
    "    - calculated bootstrap-delta using these percentiles\n",
    "- plotted histogram of bootstrapped deltas\n",
    "- calculated 90% confidence interval for deltas\n",
    "- calculated 90% confidence interval for deltas (using normal approximation)\n",
    "\n",
    "## Result\n",
    "- **90% confidence interval for deltas** are successfully calculated:\n",
    "    - lower bound = 0.0008\n",
    "    - upper bound = 0.008\n",
    "- **90% confidence interval for deltas (using normal approximation)** are calculated:\n",
    "    - although none of the normality tests showed that the distribution of deltas is normal, I still calculated confidence interval for reference:\n",
    "        - lower bound = 0.00071\n",
    "        - upper bound = 0.00787\n",
    "    - this normal-confidence-interval turned out to be very close to bootstrap-confidence-interval\n",
    "- Hypothesis of equality of the 99th percentiles, using bootstrap:\n",
    "    - Since the confidence interval doesn't contain zero, we reject the hypothesis of equality\n",
    "    - Moreover, we can say that since the whole confidence interval is greater than zero, metric 'a' is greater than metric 'b'\n",
    "\n",
    "## Learning\n",
    "- I revised relevant Python and Pandas functionality\n",
    "- I learned how to use bootstrapping for assessing statistical hypothesis with a specified confidence level\n",
    "- I learned how to calculate confidence interval based on bootstrap distribution of a metric\n",
    "- I learned how to calculate confidence interval for normally-distributed metric\n",
    "\n",
    "## Application\n",
    "- I can apply relevant Python and Pandas functionality for similar data-related problems\n",
    "- I can apply bootstrapping for assessing statistical hypothesis and calculating confidence intervals using real-world data\n",
    "- I can calculate confidence intervals for normally distributed metrics using real-world data\n"
   ],
   "id": "4a4d59ff0fdcc042"
  },
  {
   "cell_type": "code",
   "id": "867cc1dc-8188-44a9-a21c-86b4bc54c04c",
   "metadata": {
    "ExecuteTime": {
     "end_time": "2025-05-21T16:40:50.640054Z",
     "start_time": "2025-05-21T16:40:50.636517Z"
    }
   },
   "source": [
    "\n",
    "import matplotlib.pyplot as plt\n",
    "import numpy as np\n",
    "import pandas as pd\n",
    "\n",
    "from datetime import datetime\n",
    "from helpers.stat_tests import *\n"
   ],
   "outputs": [],
   "execution_count": 19
  },
  {
   "cell_type": "code",
   "id": "4ec0d830-7fdd-46ce-8913-649199a37644",
   "metadata": {
    "ExecuteTime": {
     "end_time": "2025-05-21T16:40:50.697973Z",
     "start_time": "2025-05-21T16:40:50.688196Z"
    }
   },
   "source": [
    "\n",
    "df_load_time = pd.read_csv('data/chapter_05_load_time_bootstrap.csv')\n",
    "df_load_time.head()\n"
   ],
   "outputs": [
    {
     "data": {
      "text/plain": [
       "        a       b\n",
       "0  0.0616  0.0754\n",
       "1  0.0746  0.0833\n",
       "2  0.0592  0.0783\n",
       "3  0.0711  0.0855\n",
       "4  0.0713  0.0786"
      ],
      "text/html": [
       "<div>\n",
       "<style scoped>\n",
       "    .dataframe tbody tr th:only-of-type {\n",
       "        vertical-align: middle;\n",
       "    }\n",
       "\n",
       "    .dataframe tbody tr th {\n",
       "        vertical-align: top;\n",
       "    }\n",
       "\n",
       "    .dataframe thead th {\n",
       "        text-align: right;\n",
       "    }\n",
       "</style>\n",
       "<table border=\"1\" class=\"dataframe\">\n",
       "  <thead>\n",
       "    <tr style=\"text-align: right;\">\n",
       "      <th></th>\n",
       "      <th>a</th>\n",
       "      <th>b</th>\n",
       "    </tr>\n",
       "  </thead>\n",
       "  <tbody>\n",
       "    <tr>\n",
       "      <th>0</th>\n",
       "      <td>0.0616</td>\n",
       "      <td>0.0754</td>\n",
       "    </tr>\n",
       "    <tr>\n",
       "      <th>1</th>\n",
       "      <td>0.0746</td>\n",
       "      <td>0.0833</td>\n",
       "    </tr>\n",
       "    <tr>\n",
       "      <th>2</th>\n",
       "      <td>0.0592</td>\n",
       "      <td>0.0783</td>\n",
       "    </tr>\n",
       "    <tr>\n",
       "      <th>3</th>\n",
       "      <td>0.0711</td>\n",
       "      <td>0.0855</td>\n",
       "    </tr>\n",
       "    <tr>\n",
       "      <th>4</th>\n",
       "      <td>0.0713</td>\n",
       "      <td>0.0786</td>\n",
       "    </tr>\n",
       "  </tbody>\n",
       "</table>\n",
       "</div>"
      ]
     },
     "execution_count": 20,
     "metadata": {},
     "output_type": "execute_result"
    }
   ],
   "execution_count": 20
  },
  {
   "cell_type": "code",
   "id": "298ad03f6f96cc81",
   "metadata": {
    "ExecuteTime": {
     "end_time": "2025-05-21T16:41:50.541472Z",
     "start_time": "2025-05-21T16:40:50.770609Z"
    }
   },
   "source": [
    "\n",
    "# bootstrapped 99th-percentile deltas\n",
    "boot_deltas = []\n",
    "\n",
    "# calculate bootstrap delta\n",
    "for i in range(10**5):\n",
    "    # sample control and experimental groups with repetitions,\n",
    "    # since bootstrap requires sampling with repetition\n",
    "    a = df_load_time.a.sample(frac=1, replace=True)\n",
    "    b = df_load_time.b.sample(frac=1, replace=True)\n",
    "\n",
    "    # calculate 99th-percentile for control-sample and experimental-sample\n",
    "    a_percentile = np.percentile(a, 99)\n",
    "    b_percentile = np.percentile(b, 99)\n",
    "\n",
    "    # calculate bootstrap-delta using samples\n",
    "    boot_deltas.append(a_percentile - b_percentile)\n",
    "\n",
    "boot_deltas = np.array(boot_deltas)\n"
   ],
   "outputs": [],
   "execution_count": 21
  },
  {
   "metadata": {
    "ExecuteTime": {
     "end_time": "2025-05-21T16:41:50.724544Z",
     "start_time": "2025-05-21T16:41:50.588614Z"
    }
   },
   "cell_type": "code",
   "source": [
    "\n",
    "# plot bootstrapped deltas\n",
    "plt.hist(boot_deltas, bins=20)\n",
    "\n",
    "# describe deltas\n",
    "df_bootstrap_deltas = pd.DataFrame(boot_deltas)\n",
    "df_bootstrap_deltas.columns = ['deltas']\n",
    "print(df_bootstrap_deltas.describe())\n",
    "\n",
    "# calculate 90% confidence interval\n",
    "confidence_level = 90\n",
    "lower_percentage = (100 - confidence_level) / 2  # 5%\n",
    "upper_percentage = 100 - lower_percentage  # 95%\n",
    "lower_bound = np.round(np.percentile(boot_deltas, lower_percentage), decimals=5)\n",
    "upper_bound = np.round(np.percentile(boot_deltas, upper_percentage), decimals=5)\n",
    "print(f'\\n{confidence_level}% confidence interval, lower bound = {lower_bound}')\n",
    "print(f'{confidence_level}% confidence interval, upper bound = {upper_bound}\\n')\n",
    "\n",
    "# calculate 90% confidence interval, using normal approximation\n",
    "normality_test(sample=boot_deltas, name='bootstrap deltas', alpha=0.05)\n",
    "lower_bound = np.round(boot_deltas.mean() - 1.645 * boot_deltas.std(), decimals=5)\n",
    "upper_bound = np.round(boot_deltas.mean() + 1.645 * boot_deltas.std(), decimals=5)\n",
    "print(f'90% confidence interval, lower bound (normal approximation): {lower_bound}')\n",
    "print(f'90% confidence interval, upper bound (normal approximation): {upper_bound}')\n"
   ],
   "id": "34573481-6e9b-474c-a44d-06e875fdc088",
   "outputs": [
    {
     "name": "stdout",
     "output_type": "stream",
     "text": [
      "              deltas\n",
      "count  100000.000000\n",
      "mean        0.004298\n",
      "std         0.002168\n",
      "min        -0.003384\n",
      "25%         0.003005\n",
      "50%         0.004098\n",
      "75%         0.005410\n",
      "max         0.013787\n",
      "\n",
      "90% confidence interval, lower bound = 0.0008\n",
      "90% confidence interval, upper bound = 0.008\n",
      "\n",
      "NORMALITY TESTING: bootstrap deltas\n",
      "SHAPIRO-WILK TEST\n",
      "warning: sample size is greater than 5000, unreliable results\n",
      "p-value: 9.351477511913206e-57\n",
      "sample does not look Gaussian (reject H0)\n",
      "D’AGOSTINO AND PEARSON’S TEST\n",
      "p-value: 4.753983955451578e-172\n",
      "sample does not look Gaussian (reject H0)\n",
      "KOLMOGOROV-SMIRNOV\n",
      "p-value: 0.0\n",
      "sample does not look Gaussian (reject H0)\n",
      "\n",
      "90% confidence interval, lower bound (normal approximation): 0.00073\n",
      "90% confidence interval, upper bound (normal approximation): 0.00786\n"
     ]
    },
    {
     "data": {
      "text/plain": [
       "<Figure size 640x480 with 1 Axes>"
      ],
      "image/png": "[encoded data removed]"
     },
     "metadata": {},
     "output_type": "display_data"
    }
   ],
   "execution_count": 22
  }
 ],
 "metadata": {
  "kernelspec": {
   "display_name": "Python 3 (ipykernel)",
   "language": "python",
   "name": "python3"
  },
  "language_info": {
   "codemirror_mode": {
    "name": "ipython",
    "version": 3
   },
   "file_extension": ".py",
   "mimetype": "text/x-python",
   "name": "python",
   "nbconvert_exporter": "python",
   "pygments_lexer": "ipython3",
   "version": "3.12.7"
  }
 },
 "nbformat": 4,
 "nbformat_minor": 5
}
