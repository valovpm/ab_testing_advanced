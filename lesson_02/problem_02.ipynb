{
 "cells": [
  {
   "metadata": {},
   "cell_type": "markdown",
   "source": [
    "\n",
    "# PARLA\n",
    "\n",
    "## Problem\n",
    "- Write a function that:\n",
    "    - performs independent t-test using provided control and experimental groups\n",
    "    - rounds the resulting p-value to the third decimal place\n",
    "- Analyze the significance of the difference in average revenue per user (ARPU):\n",
    "    - select the week before the experiment (from 2022-03-16 to 2022-03-23).\n",
    "    - Use the data from the files 2022-04-01T12_df_sales.csv and experiment_users.csv to solve the task.\n",
    "    - Perform independent t-test using the previous function.\n",
    "\n",
    "## Action\n",
    "- Implemented 'get_ttest_pvalue()' function, using relevant Python, Numpy, and Scipy functionality.\n",
    "- Analyzed significance of ARPU difference:\n",
    "    - I loaded, filtered, merged, grouped, aggregated, and sorted original dataframes.\n",
    "    - I replaced missing values with zeros.\n",
    "    - Created control and experimental groups, by filtering the merged dataframe.\n",
    "    - Performed independent t-test using control and experimental groups.\n",
    "\n",
    "## Result\n",
    "- Successfully tested 'get_ttest_pvalue()' function.\n",
    "- Demonstrated that ARPU difference between control and experimental groups is not significant, by calculating a p-value (0.199) that is much larger than the standard significance level (0.05).\n",
    "\n",
    "## Learning\n",
    "- I revised relevant Python, Numpy, Pandas, and Scipy functionality.\n",
    "- I realized that handing of missing data is important (omission of missing values instead of replacing them with zeros changes p-value).\n",
    "- I learned how to perform independent t-tests.\n",
    "\n",
    "## Application\n",
    "- I can apply relevant Python and Pandas functionality for data-related problems.\n",
    "- I can apply independent t-tests in practice.\n"
   ],
   "id": "b0573e67dde6028"
  },
  {
   "cell_type": "code",
   "id": "36232bdd-6fcf-4859-9d06-9f4230c50103",
   "metadata": {
    "ExecuteTime": {
     "end_time": "2025-05-14T22:03:32.362033Z",
     "start_time": "2025-05-14T22:03:32.358397Z"
    }
   },
   "source": [
    "\n",
    "from datetime import datetime\n",
    "\n",
    "import numpy as np\n",
    "import pandas as pd\n",
    "import scipy as sp\n"
   ],
   "outputs": [],
   "execution_count": 102
  },
  {
   "metadata": {
    "ExecuteTime": {
     "end_time": "2025-05-14T22:03:32.419442Z",
     "start_time": "2025-05-14T22:03:32.412114Z"
    }
   },
   "cell_type": "code",
   "source": [
    "\n",
    "def get_ttest_pvalue(\n",
    "        metrics_a_group: np.array,\n",
    "        metrics_b_group: np.array\n",
    ") -> np.float64:\n",
    "    \"\"\"\n",
    "    Returns the t-test p-value for the two groups of observations.\n",
    "\n",
    "    :param metrics_a_group: values of the control group\n",
    "    :param metrics_b_group: values of the experimental group\n",
    "    :return: p-value\n",
    "    \"\"\"\n",
    "    return np.round(sp.stats.ttest_ind(metrics_a_group, metrics_b_group).pvalue, decimals=3)\n",
    "\n",
    "\n",
    "def test_get_ttest_pvalue():\n",
    "    \"\"\"\n",
    "    Test get_ttest_pvalue function.\n",
    "    \"\"\"\n",
    "    metrics_a_group = np.array([964, 1123, 962, 1213, 914, 906, 951, 1033, 987, 1082])\n",
    "    metrics_b_group = np.array([952, 1064, 1091, 1079, 1158, 921, 1161, 1064, 819, 1065])\n",
    "    pvalue = get_ttest_pvalue(metrics_a_group, metrics_b_group)\n",
    "    print(pvalue)\n",
    "\n",
    "\n",
    "# correct answer is 0.612\n",
    "test_get_ttest_pvalue()\n"
   ],
   "id": "4b37b61128dab69c",
   "outputs": [
    {
     "name": "stdout",
     "output_type": "stream",
     "text": [
      "0.612\n"
     ]
    }
   ],
   "execution_count": 103
  },
  {
   "cell_type": "code",
   "id": "6fc13e1b-f986-4682-8342-289e283d3ffe",
   "metadata": {
    "ExecuteTime": {
     "end_time": "2025-05-14T22:03:32.752245Z",
     "start_time": "2025-05-14T22:03:32.470094Z"
    }
   },
   "source": [
    "\n",
    "# load and filter sales data\n",
    "df_sales = pd.read_csv('2022-04-01T12_df_sales.csv')\n",
    "df_sales.date = pd.to_datetime(df_sales.date)\n",
    "df_sales = df_sales[(datetime(2022, 3, 16) <= df_sales.date) & (df_sales.date < datetime(2022, 3, 23))]\n",
    "\n",
    "# group data by user_id -> only one value per user_id!\n",
    "df_sales = df_sales.groupby(by='user_id')['price'].sum().reset_index()\n",
    "df_sales = df_sales.sort_values('user_id')\n",
    "df_sales.head()\n"
   ],
   "outputs": [
    {
     "data": {
      "text/plain": [
       "  user_id  price\n",
       "0  000096    720\n",
       "1  00092c    780\n",
       "2  000bb2    720\n",
       "3  000ea9   1560\n",
       "4  000ec6    690"
      ],
      "text/html": [
       "<div>\n",
       "<style scoped>\n",
       "    .dataframe tbody tr th:only-of-type {\n",
       "        vertical-align: middle;\n",
       "    }\n",
       "\n",
       "    .dataframe tbody tr th {\n",
       "        vertical-align: top;\n",
       "    }\n",
       "\n",
       "    .dataframe thead th {\n",
       "        text-align: right;\n",
       "    }\n",
       "</style>\n",
       "<table border=\"1\" class=\"dataframe\">\n",
       "  <thead>\n",
       "    <tr style=\"text-align: right;\">\n",
       "      <th></th>\n",
       "      <th>user_id</th>\n",
       "      <th>price</th>\n",
       "    </tr>\n",
       "  </thead>\n",
       "  <tbody>\n",
       "    <tr>\n",
       "      <th>0</th>\n",
       "      <td>000096</td>\n",
       "      <td>720</td>\n",
       "    </tr>\n",
       "    <tr>\n",
       "      <th>1</th>\n",
       "      <td>00092c</td>\n",
       "      <td>780</td>\n",
       "    </tr>\n",
       "    <tr>\n",
       "      <th>2</th>\n",
       "      <td>000bb2</td>\n",
       "      <td>720</td>\n",
       "    </tr>\n",
       "    <tr>\n",
       "      <th>3</th>\n",
       "      <td>000ea9</td>\n",
       "      <td>1560</td>\n",
       "    </tr>\n",
       "    <tr>\n",
       "      <th>4</th>\n",
       "      <td>000ec6</td>\n",
       "      <td>690</td>\n",
       "    </tr>\n",
       "  </tbody>\n",
       "</table>\n",
       "</div>"
      ]
     },
     "execution_count": 104,
     "metadata": {},
     "output_type": "execute_result"
    }
   ],
   "execution_count": 104
  },
  {
   "cell_type": "code",
   "id": "724432ee-b967-4519-9213-2d8ba1714289",
   "metadata": {
    "ExecuteTime": {
     "end_time": "2025-05-14T22:03:32.809379Z",
     "start_time": "2025-05-14T22:03:32.784057Z"
    }
   },
   "source": [
    "\n",
    "# load and sort user experiment-info data (distribution of users into control/pilot groups)\n",
    "df_users = pd.read_csv('experiment_users.csv')\n",
    "df_users = df_users.sort_values('user_id')\n",
    "df_users.head()\n"
   ],
   "outputs": [
    {
     "data": {
      "text/plain": [
       "      user_id  pilot\n",
       "7487   0000d4      0\n",
       "4714   0000de      0\n",
       "19681  0000e4      1\n",
       "3512   0001e2      0\n",
       "1313   00062e      0"
      ],
      "text/html": [
       "<div>\n",
       "<style scoped>\n",
       "    .dataframe tbody tr th:only-of-type {\n",
       "        vertical-align: middle;\n",
       "    }\n",
       "\n",
       "    .dataframe tbody tr th {\n",
       "        vertical-align: top;\n",
       "    }\n",
       "\n",
       "    .dataframe thead th {\n",
       "        text-align: right;\n",
       "    }\n",
       "</style>\n",
       "<table border=\"1\" class=\"dataframe\">\n",
       "  <thead>\n",
       "    <tr style=\"text-align: right;\">\n",
       "      <th></th>\n",
       "      <th>user_id</th>\n",
       "      <th>pilot</th>\n",
       "    </tr>\n",
       "  </thead>\n",
       "  <tbody>\n",
       "    <tr>\n",
       "      <th>7487</th>\n",
       "      <td>0000d4</td>\n",
       "      <td>0</td>\n",
       "    </tr>\n",
       "    <tr>\n",
       "      <th>4714</th>\n",
       "      <td>0000de</td>\n",
       "      <td>0</td>\n",
       "    </tr>\n",
       "    <tr>\n",
       "      <th>19681</th>\n",
       "      <td>0000e4</td>\n",
       "      <td>1</td>\n",
       "    </tr>\n",
       "    <tr>\n",
       "      <th>3512</th>\n",
       "      <td>0001e2</td>\n",
       "      <td>0</td>\n",
       "    </tr>\n",
       "    <tr>\n",
       "      <th>1313</th>\n",
       "      <td>00062e</td>\n",
       "      <td>0</td>\n",
       "    </tr>\n",
       "  </tbody>\n",
       "</table>\n",
       "</div>"
      ]
     },
     "execution_count": 105,
     "metadata": {},
     "output_type": "execute_result"
    }
   ],
   "execution_count": 105
  },
  {
   "cell_type": "code",
   "id": "d9687648aa732565",
   "metadata": {
    "ExecuteTime": {
     "end_time": "2025-05-14T22:03:32.895992Z",
     "start_time": "2025-05-14T22:03:32.867234Z"
    }
   },
   "source": [
    "\n",
    "# merge dataframes\n",
    "df_users_sales = pd.merge(df_users, df_sales, how='left', on='user_id')\n",
    "df_users_sales.fillna(0, inplace=True)\n",
    "df_users_sales.head()\n"
   ],
   "outputs": [
    {
     "data": {
      "text/plain": [
       "  user_id  pilot  price\n",
       "0  0000d4      0    0.0\n",
       "1  0000de      0    0.0\n",
       "2  0000e4      1    0.0\n",
       "3  0001e2      0    0.0\n",
       "4  00062e      0    0.0"
      ],
      "text/html": [
       "<div>\n",
       "<style scoped>\n",
       "    .dataframe tbody tr th:only-of-type {\n",
       "        vertical-align: middle;\n",
       "    }\n",
       "\n",
       "    .dataframe tbody tr th {\n",
       "        vertical-align: top;\n",
       "    }\n",
       "\n",
       "    .dataframe thead th {\n",
       "        text-align: right;\n",
       "    }\n",
       "</style>\n",
       "<table border=\"1\" class=\"dataframe\">\n",
       "  <thead>\n",
       "    <tr style=\"text-align: right;\">\n",
       "      <th></th>\n",
       "      <th>user_id</th>\n",
       "      <th>pilot</th>\n",
       "      <th>price</th>\n",
       "    </tr>\n",
       "  </thead>\n",
       "  <tbody>\n",
       "    <tr>\n",
       "      <th>0</th>\n",
       "      <td>0000d4</td>\n",
       "      <td>0</td>\n",
       "      <td>0.0</td>\n",
       "    </tr>\n",
       "    <tr>\n",
       "      <th>1</th>\n",
       "      <td>0000de</td>\n",
       "      <td>0</td>\n",
       "      <td>0.0</td>\n",
       "    </tr>\n",
       "    <tr>\n",
       "      <th>2</th>\n",
       "      <td>0000e4</td>\n",
       "      <td>1</td>\n",
       "      <td>0.0</td>\n",
       "    </tr>\n",
       "    <tr>\n",
       "      <th>3</th>\n",
       "      <td>0001e2</td>\n",
       "      <td>0</td>\n",
       "      <td>0.0</td>\n",
       "    </tr>\n",
       "    <tr>\n",
       "      <th>4</th>\n",
       "      <td>00062e</td>\n",
       "      <td>0</td>\n",
       "      <td>0.0</td>\n",
       "    </tr>\n",
       "  </tbody>\n",
       "</table>\n",
       "</div>"
      ]
     },
     "execution_count": 106,
     "metadata": {},
     "output_type": "execute_result"
    }
   ],
   "execution_count": 106
  },
  {
   "metadata": {
    "ExecuteTime": {
     "end_time": "2025-05-14T22:03:32.964647Z",
     "start_time": "2025-05-14T22:03:32.958594Z"
    }
   },
   "cell_type": "code",
   "source": [
    "\n",
    "# create control group, by filtering the merged df\n",
    "group_a = df_users_sales[df_users_sales.pilot == 0]['price']\n",
    "group_a.head()\n"
   ],
   "id": "62d9950cfea7fb44",
   "outputs": [
    {
     "data": {
      "text/plain": [
       "0    0.0\n",
       "1    0.0\n",
       "3    0.0\n",
       "4    0.0\n",
       "6    0.0\n",
       "Name: price, dtype: float64"
      ]
     },
     "execution_count": 107,
     "metadata": {},
     "output_type": "execute_result"
    }
   ],
   "execution_count": 107
  },
  {
   "metadata": {
    "ExecuteTime": {
     "end_time": "2025-05-14T22:03:33.035129Z",
     "start_time": "2025-05-14T22:03:33.028536Z"
    }
   },
   "cell_type": "code",
   "source": [
    "\n",
    "# create experimental group, by filtering the merged df\n",
    "group_b = df_users_sales[df_users_sales.pilot == 1]['price']\n",
    "group_b.head()\n"
   ],
   "id": "4771fe18-7fca-4a0e-9da2-1551fbc57712",
   "outputs": [
    {
     "data": {
      "text/plain": [
       "2     0.0\n",
       "5     0.0\n",
       "9     0.0\n",
       "10    0.0\n",
       "12    0.0\n",
       "Name: price, dtype: float64"
      ]
     },
     "execution_count": 108,
     "metadata": {},
     "output_type": "execute_result"
    }
   ],
   "execution_count": 108
  },
  {
   "metadata": {
    "ExecuteTime": {
     "end_time": "2025-05-14T22:03:33.126144Z",
     "start_time": "2025-05-14T22:03:33.117419Z"
    }
   },
   "cell_type": "code",
   "source": [
    "\n",
    "# perform independent t-test\n",
    "# correct answer is 0.199\n",
    "get_ttest_pvalue(group_a, group_b)\n"
   ],
   "id": "efcf8ebd6f8122bd",
   "outputs": [
    {
     "data": {
      "text/plain": [
       "np.float64(0.199)"
      ]
     },
     "execution_count": 109,
     "metadata": {},
     "output_type": "execute_result"
    }
   ],
   "execution_count": 109
  }
 ],
 "metadata": {
  "kernelspec": {
   "display_name": "Python 3 (ipykernel)",
   "language": "python",
   "name": "python3"
  },
  "language_info": {
   "codemirror_mode": {
    "name": "ipython",
    "version": 3
   },
   "file_extension": ".py",
   "mimetype": "text/x-python",
   "name": "python",
   "nbconvert_exporter": "python",
   "pygments_lexer": "ipython3",
   "version": "3.12.6"
  }
 },
 "nbformat": 4,
 "nbformat_minor": 5
}
