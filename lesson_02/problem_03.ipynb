{
 "cells": [
  {
   "metadata": {},
   "cell_type": "markdown",
   "source": [
    "\n",
    "# PARLA\n",
    "\n",
    "## Problem\n",
    "- Estimate the average time between purchases:\n",
    "    - Take all customers who made 2 or more purchases.\n",
    "    - Calculate the time between purchases (a customer with N purchases should have N–1 time intervals).\n",
    "    - Combine the time intervals of all customers and compute the average.\n",
    "- Use the data from the file '2022-04-01T12_df_sales.csv' to solve the task.\n",
    "- Provide the average number of days between purchases, rounded to the nearest whole number.\n",
    "\n",
    "## Action\n",
    "- I estimated the average time between purchases using relevant Python, and Pandas functionality\n",
    "- I loaded, filtered, grouped, aggregated, and sorted original dataframe\n",
    "- I created dataframe, where dates for each user are shifted\n",
    "- I merged dataframes to calculate time deltas\n",
    "\n",
    "## Result\n",
    "- Successfully calculated average time between purchases for active users\n",
    "\n",
    "## Learning\n",
    "- I revised relevant Python and Pandas functionality\n",
    "- I revised working with 'datetime' data type\n",
    "\n",
    "## Application\n",
    "- I can apply relevant Python and Pandas functionality for similar data-related problems\n"
   ],
   "id": "4140afad43ee1cc5"
  },
  {
   "cell_type": "code",
   "id": "00397d69-fa13-44e4-93de-7757f279de4f",
   "metadata": {
    "ExecuteTime": {
     "end_time": "2025-05-14T15:25:13.425814Z",
     "start_time": "2025-05-14T15:25:13.422730Z"
    }
   },
   "source": [
    "\n",
    "import pandas as pd\n"
   ],
   "outputs": [],
   "execution_count": 43
  },
  {
   "cell_type": "code",
   "id": "9fdbe4ca-5dd3-4c3d-9b22-810497faf311",
   "metadata": {
    "ExecuteTime": {
     "end_time": "2025-05-14T15:25:13.784718Z",
     "start_time": "2025-05-14T15:25:13.472956Z"
    }
   },
   "source": [
    "\n",
    "# load sales data\n",
    "df_sales = pd.read_csv('2022-04-01T12_df_sales.csv')\n",
    "df_sales.date = pd.to_datetime(df_sales.date)\n",
    "df_sales.head()\n"
   ],
   "outputs": [
    {
     "data": {
      "text/plain": [
       "   sale_id                date  count_pizza  count_drink  price user_id\n",
       "0  1000001 2022-02-04 10:00:24            1            0    720  1c1543\n",
       "1  1000002 2022-02-04 10:02:28            1            1    930  a9a6e8\n",
       "2  1000003 2022-02-04 10:02:35            3            1   1980  23420a\n",
       "3  1000004 2022-02-04 10:03:06            1            1    750  3e8ed5\n",
       "4  1000005 2022-02-04 10:03:23            1            1    870  cbc468"
      ],
      "text/html": [
       "<div>\n",
       "<style scoped>\n",
       "    .dataframe tbody tr th:only-of-type {\n",
       "        vertical-align: middle;\n",
       "    }\n",
       "\n",
       "    .dataframe tbody tr th {\n",
       "        vertical-align: top;\n",
       "    }\n",
       "\n",
       "    .dataframe thead th {\n",
       "        text-align: right;\n",
       "    }\n",
       "</style>\n",
       "<table border=\"1\" class=\"dataframe\">\n",
       "  <thead>\n",
       "    <tr style=\"text-align: right;\">\n",
       "      <th></th>\n",
       "      <th>sale_id</th>\n",
       "      <th>date</th>\n",
       "      <th>count_pizza</th>\n",
       "      <th>count_drink</th>\n",
       "      <th>price</th>\n",
       "      <th>user_id</th>\n",
       "    </tr>\n",
       "  </thead>\n",
       "  <tbody>\n",
       "    <tr>\n",
       "      <th>0</th>\n",
       "      <td>1000001</td>\n",
       "      <td>2022-02-04 10:00:24</td>\n",
       "      <td>1</td>\n",
       "      <td>0</td>\n",
       "      <td>720</td>\n",
       "      <td>1c1543</td>\n",
       "    </tr>\n",
       "    <tr>\n",
       "      <th>1</th>\n",
       "      <td>1000002</td>\n",
       "      <td>2022-02-04 10:02:28</td>\n",
       "      <td>1</td>\n",
       "      <td>1</td>\n",
       "      <td>930</td>\n",
       "      <td>a9a6e8</td>\n",
       "    </tr>\n",
       "    <tr>\n",
       "      <th>2</th>\n",
       "      <td>1000003</td>\n",
       "      <td>2022-02-04 10:02:35</td>\n",
       "      <td>3</td>\n",
       "      <td>1</td>\n",
       "      <td>1980</td>\n",
       "      <td>23420a</td>\n",
       "    </tr>\n",
       "    <tr>\n",
       "      <th>3</th>\n",
       "      <td>1000004</td>\n",
       "      <td>2022-02-04 10:03:06</td>\n",
       "      <td>1</td>\n",
       "      <td>1</td>\n",
       "      <td>750</td>\n",
       "      <td>3e8ed5</td>\n",
       "    </tr>\n",
       "    <tr>\n",
       "      <th>4</th>\n",
       "      <td>1000005</td>\n",
       "      <td>2022-02-04 10:03:23</td>\n",
       "      <td>1</td>\n",
       "      <td>1</td>\n",
       "      <td>870</td>\n",
       "      <td>cbc468</td>\n",
       "    </tr>\n",
       "  </tbody>\n",
       "</table>\n",
       "</div>"
      ]
     },
     "execution_count": 44,
     "metadata": {},
     "output_type": "execute_result"
    }
   ],
   "execution_count": 44
  },
  {
   "cell_type": "code",
   "id": "8715669b-9012-4b78-819b-fdecda730d6b",
   "metadata": {
    "ExecuteTime": {
     "end_time": "2025-05-14T15:25:14.024422Z",
     "start_time": "2025-05-14T15:25:13.835268Z"
    }
   },
   "source": [
    "\n",
    "# find users with multiple sales\n",
    "df_users_with_many_sales = df_sales.groupby(by='user_id')['sale_id'].count().reset_index()\n",
    "df_users_with_many_sales = df_users_with_many_sales[df_users_with_many_sales.sale_id > 1]\n",
    "df_users_with_many_sales.head()\n"
   ],
   "outputs": [
    {
     "data": {
      "text/plain": [
       "  user_id  sale_id\n",
       "0  000096        2\n",
       "1  0000d4        2\n",
       "2  0000de        3\n",
       "3  0000e4        2\n",
       "6  0001e2        2"
      ],
      "text/html": [
       "<div>\n",
       "<style scoped>\n",
       "    .dataframe tbody tr th:only-of-type {\n",
       "        vertical-align: middle;\n",
       "    }\n",
       "\n",
       "    .dataframe tbody tr th {\n",
       "        vertical-align: top;\n",
       "    }\n",
       "\n",
       "    .dataframe thead th {\n",
       "        text-align: right;\n",
       "    }\n",
       "</style>\n",
       "<table border=\"1\" class=\"dataframe\">\n",
       "  <thead>\n",
       "    <tr style=\"text-align: right;\">\n",
       "      <th></th>\n",
       "      <th>user_id</th>\n",
       "      <th>sale_id</th>\n",
       "    </tr>\n",
       "  </thead>\n",
       "  <tbody>\n",
       "    <tr>\n",
       "      <th>0</th>\n",
       "      <td>000096</td>\n",
       "      <td>2</td>\n",
       "    </tr>\n",
       "    <tr>\n",
       "      <th>1</th>\n",
       "      <td>0000d4</td>\n",
       "      <td>2</td>\n",
       "    </tr>\n",
       "    <tr>\n",
       "      <th>2</th>\n",
       "      <td>0000de</td>\n",
       "      <td>3</td>\n",
       "    </tr>\n",
       "    <tr>\n",
       "      <th>3</th>\n",
       "      <td>0000e4</td>\n",
       "      <td>2</td>\n",
       "    </tr>\n",
       "    <tr>\n",
       "      <th>6</th>\n",
       "      <td>0001e2</td>\n",
       "      <td>2</td>\n",
       "    </tr>\n",
       "  </tbody>\n",
       "</table>\n",
       "</div>"
      ]
     },
     "execution_count": 45,
     "metadata": {},
     "output_type": "execute_result"
    }
   ],
   "execution_count": 45
  },
  {
   "cell_type": "code",
   "id": "d0cea59184a3d1b5",
   "metadata": {
    "ExecuteTime": {
     "end_time": "2025-05-14T15:25:14.446825Z",
     "start_time": "2025-05-14T15:25:14.094173Z"
    }
   },
   "source": [
    "\n",
    "# select users with multiple sales\n",
    "df_sales = df_sales[df_sales.user_id.isin(df_users_with_many_sales.user_id)]\n",
    "df_sales = df_sales[['user_id', 'date']]\n",
    "\n",
    "# create dataframe, where dates for each user are shifted (to calculate deltas later)\n",
    "df_sales = df_sales.sort_values(by=['user_id', 'date'], ascending=[True, False]).reset_index(drop=True)\n",
    "df_shifted_dates = df_sales.groupby(['user_id']).shift(-1)\n",
    "df_shifted_dates = df_shifted_dates.rename(columns = {'date' : 'shifted_date'})\n",
    "df_shifted_dates.head()\n"
   ],
   "outputs": [
    {
     "data": {
      "text/plain": [
       "         shifted_date\n",
       "0 2022-03-04 11:15:55\n",
       "1                 NaT\n",
       "2 2022-02-28 16:32:09\n",
       "3                 NaT\n",
       "4 2022-03-11 19:33:20"
      ],
      "text/html": [
       "<div>\n",
       "<style scoped>\n",
       "    .dataframe tbody tr th:only-of-type {\n",
       "        vertical-align: middle;\n",
       "    }\n",
       "\n",
       "    .dataframe tbody tr th {\n",
       "        vertical-align: top;\n",
       "    }\n",
       "\n",
       "    .dataframe thead th {\n",
       "        text-align: right;\n",
       "    }\n",
       "</style>\n",
       "<table border=\"1\" class=\"dataframe\">\n",
       "  <thead>\n",
       "    <tr style=\"text-align: right;\">\n",
       "      <th></th>\n",
       "      <th>shifted_date</th>\n",
       "    </tr>\n",
       "  </thead>\n",
       "  <tbody>\n",
       "    <tr>\n",
       "      <th>0</th>\n",
       "      <td>2022-03-04 11:15:55</td>\n",
       "    </tr>\n",
       "    <tr>\n",
       "      <th>1</th>\n",
       "      <td>NaT</td>\n",
       "    </tr>\n",
       "    <tr>\n",
       "      <th>2</th>\n",
       "      <td>2022-02-28 16:32:09</td>\n",
       "    </tr>\n",
       "    <tr>\n",
       "      <th>3</th>\n",
       "      <td>NaT</td>\n",
       "    </tr>\n",
       "    <tr>\n",
       "      <th>4</th>\n",
       "      <td>2022-03-11 19:33:20</td>\n",
       "    </tr>\n",
       "  </tbody>\n",
       "</table>\n",
       "</div>"
      ]
     },
     "execution_count": 46,
     "metadata": {},
     "output_type": "execute_result"
    }
   ],
   "execution_count": 46
  },
  {
   "metadata": {
    "ExecuteTime": {
     "end_time": "2025-05-14T15:25:14.533373Z",
     "start_time": "2025-05-14T15:25:14.521774Z"
    }
   },
   "cell_type": "code",
   "source": [
    "\n",
    "# merge sales and shifted dates\n",
    "df_merged = df_sales.join(df_shifted_dates)\n",
    "df_merged.head()\n"
   ],
   "id": "cd54b839-3f40-443b-9587-6197ad70fc8c",
   "outputs": [
    {
     "data": {
      "text/plain": [
       "  user_id                date        shifted_date\n",
       "0  000096 2022-03-22 13:16:09 2022-03-04 11:15:55\n",
       "1  000096 2022-03-04 11:15:55                 NaT\n",
       "2  0000d4 2022-03-27 11:26:30 2022-02-28 16:32:09\n",
       "3  0000d4 2022-02-28 16:32:09                 NaT\n",
       "4  0000de 2022-03-25 17:01:47 2022-03-11 19:33:20"
      ],
      "text/html": [
       "<div>\n",
       "<style scoped>\n",
       "    .dataframe tbody tr th:only-of-type {\n",
       "        vertical-align: middle;\n",
       "    }\n",
       "\n",
       "    .dataframe tbody tr th {\n",
       "        vertical-align: top;\n",
       "    }\n",
       "\n",
       "    .dataframe thead th {\n",
       "        text-align: right;\n",
       "    }\n",
       "</style>\n",
       "<table border=\"1\" class=\"dataframe\">\n",
       "  <thead>\n",
       "    <tr style=\"text-align: right;\">\n",
       "      <th></th>\n",
       "      <th>user_id</th>\n",
       "      <th>date</th>\n",
       "      <th>shifted_date</th>\n",
       "    </tr>\n",
       "  </thead>\n",
       "  <tbody>\n",
       "    <tr>\n",
       "      <th>0</th>\n",
       "      <td>000096</td>\n",
       "      <td>2022-03-22 13:16:09</td>\n",
       "      <td>2022-03-04 11:15:55</td>\n",
       "    </tr>\n",
       "    <tr>\n",
       "      <th>1</th>\n",
       "      <td>000096</td>\n",
       "      <td>2022-03-04 11:15:55</td>\n",
       "      <td>NaT</td>\n",
       "    </tr>\n",
       "    <tr>\n",
       "      <th>2</th>\n",
       "      <td>0000d4</td>\n",
       "      <td>2022-03-27 11:26:30</td>\n",
       "      <td>2022-02-28 16:32:09</td>\n",
       "    </tr>\n",
       "    <tr>\n",
       "      <th>3</th>\n",
       "      <td>0000d4</td>\n",
       "      <td>2022-02-28 16:32:09</td>\n",
       "      <td>NaT</td>\n",
       "    </tr>\n",
       "    <tr>\n",
       "      <th>4</th>\n",
       "      <td>0000de</td>\n",
       "      <td>2022-03-25 17:01:47</td>\n",
       "      <td>2022-03-11 19:33:20</td>\n",
       "    </tr>\n",
       "  </tbody>\n",
       "</table>\n",
       "</div>"
      ]
     },
     "execution_count": 47,
     "metadata": {},
     "output_type": "execute_result"
    }
   ],
   "execution_count": 47
  },
  {
   "cell_type": "code",
   "id": "70f92943db327f6d",
   "metadata": {
    "ExecuteTime": {
     "end_time": "2025-05-14T15:25:14.646117Z",
     "start_time": "2025-05-14T15:25:14.623489Z"
    }
   },
   "source": [
    "\n",
    "# calculate deltas\n",
    "df_delta = df_merged.copy()\n",
    "df_delta = df_delta[pd.notnull(df_delta.shifted_date)]\n",
    "df_delta['delta'] = df_delta.date - df_delta.shifted_date\n",
    "df_delta.head()\n"
   ],
   "outputs": [
    {
     "data": {
      "text/plain": [
       "  user_id                date        shifted_date            delta\n",
       "0  000096 2022-03-22 13:16:09 2022-03-04 11:15:55 18 days 02:00:14\n",
       "2  0000d4 2022-03-27 11:26:30 2022-02-28 16:32:09 26 days 18:54:21\n",
       "4  0000de 2022-03-25 17:01:47 2022-03-11 19:33:20 13 days 21:28:27\n",
       "5  0000de 2022-03-11 19:33:20 2022-02-11 18:57:15 28 days 00:36:05\n",
       "7  0000e4 2022-03-27 14:54:35 2022-02-28 12:41:47 27 days 02:12:48"
      ],
      "text/html": [
       "<div>\n",
       "<style scoped>\n",
       "    .dataframe tbody tr th:only-of-type {\n",
       "        vertical-align: middle;\n",
       "    }\n",
       "\n",
       "    .dataframe tbody tr th {\n",
       "        vertical-align: top;\n",
       "    }\n",
       "\n",
       "    .dataframe thead th {\n",
       "        text-align: right;\n",
       "    }\n",
       "</style>\n",
       "<table border=\"1\" class=\"dataframe\">\n",
       "  <thead>\n",
       "    <tr style=\"text-align: right;\">\n",
       "      <th></th>\n",
       "      <th>user_id</th>\n",
       "      <th>date</th>\n",
       "      <th>shifted_date</th>\n",
       "      <th>delta</th>\n",
       "    </tr>\n",
       "  </thead>\n",
       "  <tbody>\n",
       "    <tr>\n",
       "      <th>0</th>\n",
       "      <td>000096</td>\n",
       "      <td>2022-03-22 13:16:09</td>\n",
       "      <td>2022-03-04 11:15:55</td>\n",
       "      <td>18 days 02:00:14</td>\n",
       "    </tr>\n",
       "    <tr>\n",
       "      <th>2</th>\n",
       "      <td>0000d4</td>\n",
       "      <td>2022-03-27 11:26:30</td>\n",
       "      <td>2022-02-28 16:32:09</td>\n",
       "      <td>26 days 18:54:21</td>\n",
       "    </tr>\n",
       "    <tr>\n",
       "      <th>4</th>\n",
       "      <td>0000de</td>\n",
       "      <td>2022-03-25 17:01:47</td>\n",
       "      <td>2022-03-11 19:33:20</td>\n",
       "      <td>13 days 21:28:27</td>\n",
       "    </tr>\n",
       "    <tr>\n",
       "      <th>5</th>\n",
       "      <td>0000de</td>\n",
       "      <td>2022-03-11 19:33:20</td>\n",
       "      <td>2022-02-11 18:57:15</td>\n",
       "      <td>28 days 00:36:05</td>\n",
       "    </tr>\n",
       "    <tr>\n",
       "      <th>7</th>\n",
       "      <td>0000e4</td>\n",
       "      <td>2022-03-27 14:54:35</td>\n",
       "      <td>2022-02-28 12:41:47</td>\n",
       "      <td>27 days 02:12:48</td>\n",
       "    </tr>\n",
       "  </tbody>\n",
       "</table>\n",
       "</div>"
      ]
     },
     "execution_count": 48,
     "metadata": {},
     "output_type": "execute_result"
    }
   ],
   "execution_count": 48
  },
  {
   "metadata": {
    "ExecuteTime": {
     "end_time": "2025-05-14T15:25:14.732513Z",
     "start_time": "2025-05-14T15:25:14.727624Z"
    }
   },
   "cell_type": "code",
   "source": [
    "\n",
    "# calculate mean delta\n",
    "df_delta.delta.mean()\n"
   ],
   "id": "640b6705-e5ad-4df5-9859-ac7a8e62d8b6",
   "outputs": [
    {
     "data": {
      "text/plain": [
       "Timedelta('17 days 07:37:57.653431857')"
      ]
     },
     "execution_count": 49,
     "metadata": {},
     "output_type": "execute_result"
    }
   ],
   "execution_count": 49
  }
 ],
 "metadata": {
  "kernelspec": {
   "display_name": "Python 3 (ipykernel)",
   "language": "python",
   "name": "python3"
  },
  "language_info": {
   "codemirror_mode": {
    "name": "ipython",
    "version": 3
   },
   "file_extension": ".py",
   "mimetype": "text/x-python",
   "name": "python",
   "nbconvert_exporter": "python",
   "pygments_lexer": "ipython3",
   "version": "3.12.7"
  }
 },
 "nbformat": 4,
 "nbformat_minor": 5
}
