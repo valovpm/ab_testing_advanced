{
 "cells": [
  {
   "metadata": {},
   "cell_type": "markdown",
   "source": [
    "\n",
    "# PARLA\n",
    "\n",
    "## Problem\n",
    "In the previous problem, we found that in the 'Refactoring backend' experiment:\n",
    "- the average load time increased in the experimental group\n",
    "- but the 99th percentile decreased in the experimental group\n",
    "\n",
    "Now check the significance of the differences of other percentiles:\n",
    "- Data for the 'Refactoring backend' experiment: `2022-04-13/2022-04-13T12_df_web_logs.csv` and `2022-04-13/experiment_users.csv`.\n",
    "- The experiment was conducted from `2022-04-05` to `2022-04-12`.\n",
    "- Assume that the request processing time measurements are independent.\n",
    "- When testing, use a normal confidence interval.\n",
    "\n",
    "## Action\n",
    "To check if differences between load-times of control and experimental groups, are statistically significant, I:\n",
    "- sampled control and experimental groups with repetitions (since bootstrap requires sampling with repetition)\n",
    "- calculated bootstrap quantile deltas\n",
    "- using the normal confidence interval, to check if there is a significant difference in load-time for that quantile\n",
    "\n",
    "## Result\n",
    "For some quantiles there was a statistically significant difference, while for others there was not\n",
    "- Quantiles WITH statistical difference of load time: 0.7, 0.74, 0.82, 0.86, 0.9, 0.95, 0.99\n",
    "- Quantiles WITHOUT statistical difference of load time: 0.78, 0.999, 0.9999\n",
    "\n",
    "## Learning\n",
    "- I revised relevant Python and Pandas functionality\n",
    "- I learned how to use bootstrapping for assessing statistical significance with a specified confidence level\n",
    "- I learned how to calculate confidence interval for normally-distributed metric\n",
    "- I learned that statistical significance can vary from quantile to quantile\n",
    "\n",
    "## Application\n",
    "- I can apply relevant Python and Pandas functionality for similar data-related problems\n",
    "- I can apply bootstrapping for assessing statistical hypothesis and calculating confidence intervals using real-world data\n",
    "- I can calculate confidence intervals for normally distributed metrics using real-world data\n"
   ],
   "id": "d31b83f3c321ef30"
  },
  {
   "cell_type": "code",
   "id": "2375d785-66f6-4379-a9da-76d991ad3a1e",
   "metadata": {
    "ExecuteTime": {
     "end_time": "2025-05-21T20:14:03.832184Z",
     "start_time": "2025-05-21T20:14:03.828311Z"
    }
   },
   "source": [
    "\n",
    "from datetime import datetime\n",
    "\n",
    "import numpy as np\n",
    "import pandas as pd\n"
   ],
   "outputs": [],
   "execution_count": 14
  },
  {
   "cell_type": "code",
   "id": "ca906b90-4f3f-478f-9d17-5a9d875ab5f4",
   "metadata": {
    "ExecuteTime": {
     "end_time": "2025-05-21T20:14:06.031388Z",
     "start_time": "2025-05-21T20:14:03.880622Z"
    }
   },
   "source": [
    "\n",
    "# load dataset, describing distribution of users into control and experimental groups\n",
    "df_users = pd.read_csv('data/2022-04-13_experiment_users.csv')\n",
    "\n",
    "# load dataset, containing web-logs\n",
    "df_logs = pd.read_csv('data/2022-04-13T12_df_web_logs.csv')\n",
    "df_logs.date = pd.to_datetime(df_logs.date)\n",
    "\n",
    "# filter web-logs to keep experimental data\n",
    "start_date = datetime(2022, 4, 5)\n",
    "end_date = datetime(2022, 4, 12)\n",
    "df_logs = df_logs[(df_logs.date >= start_date) & (df_logs.date < end_date)]\n",
    "\n",
    "# merge df_users and df_logs, to distribute logs into control and experimental groups\n",
    "mdf = pd.merge(df_users, df_logs, how='inner', on=['user_id'])\n",
    "df_a = mdf[mdf.pilot == 0].load_time\n",
    "df_b = mdf[mdf.pilot == 1].load_time\n",
    "print(df_a.head())\n",
    "print(df_b.head())\n"
   ],
   "outputs": [
    {
     "name": "stdout",
     "output_type": "stream",
     "text": [
      "0    106.6\n",
      "1     49.6\n",
      "2     49.9\n",
      "3     75.7\n",
      "4     61.6\n",
      "Name: load_time, dtype: float64\n",
      "19270    60.0\n",
      "19271    71.7\n",
      "19272    66.1\n",
      "19273    73.6\n",
      "19274    68.7\n",
      "Name: load_time, dtype: float64\n"
     ]
    }
   ],
   "execution_count": 15
  },
  {
   "cell_type": "code",
   "id": "81e8ddd4-85f2-4141-85bf-54f6807a7b25",
   "metadata": {
    "ExecuteTime": {
     "end_time": "2025-05-21T20:14:33.747367Z",
     "start_time": "2025-05-21T20:14:06.050273Z"
    }
   },
   "source": [
    "\n",
    "quantiles = [0.7, 0.74, 0.78, 0.82, 0.86, 0.90, 0.95, 0.99, 0.999, 0.9999]\n",
    "\n",
    "for q in quantiles:\n",
    "    boot_deltas = []\n",
    "    for i in range(10**3):\n",
    "        # sample control and experimental groups with repetitions,\n",
    "        # since bootstrap requires sampling with repetition\n",
    "        a = df_a.sample(frac=1, replace=True)\n",
    "        b = df_b.sample(frac=1, replace=True)\n",
    "\n",
    "        # calculate bootstrap quantile deltas\n",
    "        boot_deltas.append(a.quantile(q) - b.quantile(q))\n",
    "\n",
    "    # using the normal confidence interval,\n",
    "    # check if there is a significant difference in load-time for that quantile\n",
    "    boot_deltas = np.array(boot_deltas)\n",
    "    deltas_mean = boot_deltas.mean()\n",
    "    deltas_std = boot_deltas.std()\n",
    "    lower = deltas_mean - 1.96 * deltas_std\n",
    "    upper = deltas_mean + 1.96 * deltas_std\n",
    "\n",
    "    # check for statistical significance\n",
    "    if lower <= 0 <= upper:\n",
    "        print(f'{q}: there IS NO statistically significant difference in load time between control and experimental groups')\n",
    "    else:\n",
    "        print(f'{q}: these IS a statistically significant difference in load time between control and experimental groups')\n"
   ],
   "outputs": [
    {
     "name": "stdout",
     "output_type": "stream",
     "text": [
      "0.7: these IS a statistically significant difference in load time between control and experimental groups\n",
      "0.74: these IS a statistically significant difference in load time between control and experimental groups\n",
      "0.78: there IS NO statistically significant difference in load time between control and experimental groups\n",
      "0.82: these IS a statistically significant difference in load time between control and experimental groups\n",
      "0.86: these IS a statistically significant difference in load time between control and experimental groups\n",
      "0.9: these IS a statistically significant difference in load time between control and experimental groups\n",
      "0.95: these IS a statistically significant difference in load time between control and experimental groups\n",
      "0.99: these IS a statistically significant difference in load time between control and experimental groups\n",
      "0.999: there IS NO statistically significant difference in load time between control and experimental groups\n",
      "0.9999: there IS NO statistically significant difference in load time between control and experimental groups\n"
     ]
    }
   ],
   "execution_count": 16
  }
 ],
 "metadata": {
  "kernelspec": {
   "display_name": "Python 3 (ipykernel)",
   "language": "python",
   "name": "python3"
  },
  "language_info": {
   "codemirror_mode": {
    "name": "ipython",
    "version": 3
   },
   "file_extension": ".py",
   "mimetype": "text/x-python",
   "name": "python",
   "nbconvert_exporter": "python",
   "pygments_lexer": "ipython3",
   "version": "3.12.7"
  }
 },
 "nbformat": 4,
 "nbformat_minor": 5
}
