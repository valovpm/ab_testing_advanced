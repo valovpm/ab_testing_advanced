{
 "cells": [
  {
   "metadata": {},
   "cell_type": "markdown",
   "source": [
    "\n",
    "# PARLA\n",
    "\n",
    "## Problem\n",
    "\n",
    "1. Implement a function that calculates profit for an online store:\n",
    "    - formula for the metric (profit): M = R - C - 110 * S\n",
    "    - where:\n",
    "        - price (R)\n",
    "        - cost (C)\n",
    "        - whether the customer contacted support (S)\n",
    "        - all variables R, C, and S are non-negative\n",
    "        - S equals 0 if there was no support request, and 1 if there was\n",
    "    - on average, each support request costs 110 rubles — this includes operator time and compensation for customer inconvenience\n",
    "\n",
    "2. Using the function from Step-1 and provided code for `df_control` and `df-pilot`:\n",
    "- **Determine the threshold value of the support request cost**, at which a slight deviation changes the result of the hypothesis test.\n",
    "- In other words, you need to find the value of support-request cost at which:\n",
    "    - the p-value equals the significance level\n",
    "    - the mean in the experimental group is greater than in the control group\n",
    "    - round your answer to the nearest whole number\n",
    "- We are testing the hypothesis of equal means for the metric calculated in the previous task:\n",
    "    - The test used is **Student’s t-test**\n",
    "    - The **significance level is 0.05**\n",
    "\n",
    "## Action\n",
    "1. Implemented the function that calculates the required profit-metric\n",
    "2. Calculated the threshold value of the support request cost:\n",
    "    - to do that, for each tested support-cost, I:\n",
    "        - generated control group, containing control-profit values\n",
    "        - generated experimental group, containing experimental-profit values\n",
    "        - calculated delta between experimental-mean and control-mean\n",
    "        - performed independent t-test using control and experimental groups\n",
    "\n",
    "## Result\n",
    "1. The implemented function successfully passed all tests.\n",
    "2. Successfully calculated threshold value (317) for the support request cost.\n",
    "\n",
    "## Learning\n",
    "- I revised relevant Python, and Pandas functionality\n",
    "- I learned that changing of parameters that influence studied metric, naturally influence the metric, deltas, and p-value, i.e. difference between control and experimental groups and significance of that difference\n",
    "\n",
    "## Application\n",
    "- I can apply relevant Python, Numpy, and Scipy functionality for similar data-related problems\n",
    "- I a real-world one can iterate through parameter-values (like support-cost) and figure out when profit becomes significantly better or significantly worse\n"
   ],
   "id": "3161bf920a2b07bb"
  },
  {
   "cell_type": "code",
   "id": "88a17ec4-64eb-4344-8dc6-dc901979e7b2",
   "metadata": {
    "ExecuteTime": {
     "end_time": "2025-05-25T18:00:02.361066Z",
     "start_time": "2025-05-25T18:00:02.357574Z"
    }
   },
   "source": [
    "\n",
    "import numpy as np\n",
    "import pandas as pd\n",
    "import scipy as sp\n"
   ],
   "outputs": [],
   "execution_count": 21
  },
  {
   "cell_type": "code",
   "id": "21fb7945-45b9-4521-a2c2-63b0a3a532de",
   "metadata": {
    "ExecuteTime": {
     "end_time": "2025-05-25T18:00:02.413518Z",
     "start_time": "2025-05-25T18:00:02.408711Z"
    }
   },
   "source": [
    "\n",
    "def get_metric(\n",
    "    df: pd.DataFrame,\n",
    "    support_cost: float\n",
    ") -> pd.Series:\n",
    "    \"\"\"\n",
    "    Calculates metric values, using the formula: M = R - С - 110 * S\n",
    "\n",
    "    :param df: A DataFrame with order data containing the following columns:\n",
    "        - revenue: revenue\n",
    "        - cost_price: cost of goods sold\n",
    "        - support: number of support requests\n",
    "\n",
    "    :param support_cost: Average cost of a single support request.\n",
    "\n",
    "    :return: A Series containing the computed metric values.\n",
    "    \"\"\"\n",
    "\n",
    "    # M = R - С - 110 * S\n",
    "    return df.apply(lambda row: row.revenue - row.cost_price - support_cost * row.support, axis=1)\n"
   ],
   "outputs": [],
   "execution_count": 22
  },
  {
   "cell_type": "code",
   "id": "5eca74ef-327d-4ad6-bfc0-069d9eaf5e93",
   "metadata": {
    "ExecuteTime": {
     "end_time": "2025-05-25T18:00:02.472981Z",
     "start_time": "2025-05-25T18:00:02.466846Z"
    }
   },
   "source": [
    "\n",
    "# testing function get_metric()\n",
    "df = pd.DataFrame({\n",
    "    'revenue': [1500, 1800, 2100],\n",
    "    'cost_price': [1300, 1200, 1600],\n",
    "    'support': [1, 0, 0],\n",
    "})\n",
    "support_cost = 110\n",
    "\n",
    "answer = pd.Series([90, 600, 500])\n",
    "result = get_metric(df, support_cost)\n",
    "if answer.equals(result):\n",
    "    print('test case 01: passed')\n",
    "else:\n",
    "    print('test case 01: failed')\n"
   ],
   "outputs": [
    {
     "name": "stdout",
     "output_type": "stream",
     "text": [
      "test case 01: passed\n"
     ]
    }
   ],
   "execution_count": 23
  },
  {
   "metadata": {
    "ExecuteTime": {
     "end_time": "2025-05-25T18:00:03.445633Z",
     "start_time": "2025-05-25T18:00:02.606624Z"
    }
   },
   "cell_type": "code",
   "source": [
    "\n",
    "sample_size = 1000\n",
    "\n",
    "df_control = pd.DataFrame({\n",
    "    'revenue': [int(np.sin(x / 12) * 600 + 1200) for x in range(sample_size)],\n",
    "    'cost_price': [int(np.sin(x / 12) * 400 + 700) for x in range(sample_size)],\n",
    "    'support': (np.arange(sample_size) < sample_size - 400).astype(int),\n",
    "})\n",
    "\n",
    "df_pilot = pd.DataFrame({\n",
    "    'revenue': [int(np.sin(x / 11 + 1) * 650 + 1250) for x in range(sample_size)],\n",
    "    'cost_price': [int(np.sin(x / 11 + 1) * 400 + 700) for x in range(sample_size)],\n",
    "    'support': (np.arange(sample_size) < sample_size - 300).astype(int),\n",
    "})\n",
    "\n",
    "for cost in range(310, 330):\n",
    "    # generate control group, containing control-profit values\n",
    "    a_profit = get_metric(df_control, cost)\n",
    "\n",
    "    # generate experimental group, containing experimental-profit values\n",
    "    b_profit = get_metric(df_pilot, cost)\n",
    "\n",
    "    # calculate delta between experimental-mean and control-mean\n",
    "    delta = round(b_profit.mean() - a_profit.mean(), ndigits=2)\n",
    "\n",
    "    # perform independent t-test using control and experimental groups\n",
    "    pvalue = round(sp.stats.ttest_ind(a_profit, b_profit).pvalue, 3)\n",
    "\n",
    "    # the threshold value is 317\n",
    "    print(f'cost: {cost}; delta: {delta} pvalue: {pvalue}')\n"
   ],
   "id": "a9d01910e655fc8f",
   "outputs": [
    {
     "name": "stdout",
     "output_type": "stream",
     "text": [
      "cost: 310; delta: 20.09 pvalue: 0.04\n",
      "cost: 311; delta: 19.99 pvalue: 0.041\n",
      "cost: 312; delta: 19.89 pvalue: 0.043\n",
      "cost: 313; delta: 19.79 pvalue: 0.044\n",
      "cost: 314; delta: 19.69 pvalue: 0.046\n",
      "cost: 315; delta: 19.59 pvalue: 0.047\n",
      "cost: 316; delta: 19.49 pvalue: 0.048\n",
      "cost: 317; delta: 19.39 pvalue: 0.05\n",
      "cost: 318; delta: 19.29 pvalue: 0.051\n",
      "cost: 319; delta: 19.19 pvalue: 0.053\n",
      "cost: 320; delta: 19.09 pvalue: 0.055\n",
      "cost: 321; delta: 18.99 pvalue: 0.056\n",
      "cost: 322; delta: 18.89 pvalue: 0.058\n",
      "cost: 323; delta: 18.79 pvalue: 0.06\n",
      "cost: 324; delta: 18.69 pvalue: 0.061\n",
      "cost: 325; delta: 18.59 pvalue: 0.063\n",
      "cost: 326; delta: 18.49 pvalue: 0.065\n",
      "cost: 327; delta: 18.39 pvalue: 0.067\n",
      "cost: 328; delta: 18.29 pvalue: 0.069\n",
      "cost: 329; delta: 18.19 pvalue: 0.071\n"
     ]
    }
   ],
   "execution_count": 24
  }
 ],
 "metadata": {
  "kernelspec": {
   "display_name": "Python 3 (ipykernel)",
   "language": "python",
   "name": "python3"
  },
  "language_info": {
   "codemirror_mode": {
    "name": "ipython",
    "version": 3
   },
   "file_extension": ".py",
   "mimetype": "text/x-python",
   "name": "python",
   "nbconvert_exporter": "python",
   "pygments_lexer": "ipython3",
   "version": "3.12.7"
  }
 },
 "nbformat": 4,
 "nbformat_minor": 5
}
