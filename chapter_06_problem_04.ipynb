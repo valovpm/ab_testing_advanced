{
 "cells": [
  {
   "metadata": {},
   "cell_type": "markdown",
   "source": [
    "\n",
    "# PARLA\n",
    "\n",
    "## Problem\n",
    "Write a function `process_outliers` that:\n",
    "- takes a DataFrame containing metric values\n",
    "- takes a tuple with metric bounds\n",
    "- processes outliers using the specified method (dropping or clipping)\n",
    "\n",
    "## Action\n",
    "I implemented 2 different ways of handling outliers and combined them into one function\n",
    "\n",
    "## Result\n",
    "Successfully implemented the function that passed all tests\n",
    "\n",
    "## Learning\n",
    "- I revised relevant Python, Numpy, and Scipy functionality\n",
    "- I learned (by implementing) several different ways of dealing with outliers\n",
    "\n",
    "## Application\n",
    "- I can apply relevant Python, Numpy, and Scipy functionality for similar data-related problems\n",
    "- I can use the implemented function to handle outliers in different ways\n"
   ],
   "id": "3f235926f43632f4"
  },
  {
   "cell_type": "code",
   "id": "4fb72436-0909-4a80-8fe9-b9f903bf23f3",
   "metadata": {
    "ExecuteTime": {
     "end_time": "2025-05-24T19:54:40.679970Z",
     "start_time": "2025-05-24T19:54:40.676817Z"
    }
   },
   "source": [
    "\n",
    "from typing import Tuple\n",
    "\n",
    "import pandas as pd\n"
   ],
   "outputs": [],
   "execution_count": 5
  },
  {
   "cell_type": "code",
   "id": "40eb8296-d842-4a7b-8052-cf37eb692b00",
   "metadata": {
    "ExecuteTime": {
     "end_time": "2025-05-24T19:54:40.730361Z",
     "start_time": "2025-05-24T19:54:40.725024Z"
    }
   },
   "source": [
    "\n",
    "def process_outliers(\n",
    "    metrics: pd.DataFrame,\n",
    "    bounds: Tuple[float, float],\n",
    "    outlier_process_type: str\n",
    ") -> pd.DataFrame:\n",
    "    \"\"\"\n",
    "    Returns a new DataFrame with processed outliers in metric values.\n",
    "\n",
    "    :param metrics: A DataFrame containing metric values with columns ['user_id', 'metric'].\n",
    "    :param bounds: A tuple (lower_bound, upper_bound). Values outside this range are considered outliers.\n",
    "    :param outlier_process_type: Method for handling outliers. Possible options:\n",
    "        - 'drop': remove the measurement.\n",
    "        - 'clip': replace the outlier with the nearest boundary value (lower_bound or upper_bound).\n",
    "\n",
    "    :return: A DataFrame with columns ['user_id', 'metric'], with outliers handled.\n",
    "    \"\"\"\n",
    "\n",
    "    # mark metric values as inside the bounds (True) and outside the bounds (False)\n",
    "    metrics['inside'] = (metrics.metric >= bounds[0]) & (metrics.metric <= bounds[1])\n",
    "\n",
    "    # if 'drop', then keep only metric values inside the bounds\n",
    "    if outlier_process_type == 'drop':\n",
    "        metrics = metrics[metrics.inside]\n",
    "\n",
    "    # if 'clip', replace the outlier with the nearest boundary value (lower_bound or upper_bound).\n",
    "    elif outlier_process_type == 'clip':\n",
    "\n",
    "        def clip(row):\n",
    "            if row.inside:\n",
    "                return row.metric\n",
    "            else:\n",
    "                if row.metric < bounds[0]:\n",
    "                    return bounds[0]\n",
    "                else:\n",
    "                    return bounds[1]\n",
    "        \n",
    "        metrics.metric = metrics.apply(clip, axis=1)\n",
    "\n",
    "    else:\n",
    "        raise ValueError('Wrong \"outlier_process_type\" parameter!')\n",
    "\n",
    "    metrics = metrics.drop(columns=['inside'])\n",
    "    return metrics\n"
   ],
   "outputs": [],
   "execution_count": 6
  },
  {
   "cell_type": "code",
   "id": "7ed703fe-9cad-4a9a-9e66-a31f9935f610",
   "metadata": {
    "ExecuteTime": {
     "end_time": "2025-05-24T19:54:40.789950Z",
     "start_time": "2025-05-24T19:54:40.779053Z"
    }
   },
   "source": [
    "\n",
    "# testing the process_outliers() function\n",
    "metrics = pd.DataFrame({'user_id': [1, 2, 3], 'metric': [1., 2, 3]})\n",
    "bounds = (0.1, 2.2,)\n",
    "\n",
    "# test case 01\n",
    "outlier_process_type = 'drop'\n",
    "answer = pd.DataFrame({'user_id': [1, 2], 'metric': [1.0, 2.0]})\n",
    "result = process_outliers(metrics, bounds, outlier_process_type)\n",
    "if answer.equals(result):\n",
    "    print(f'test case 01: passed')\n",
    "else:\n",
    "    print(f'test case 01: failed')\n",
    "\n",
    "# test case 02\n",
    "outlier_process_type = 'clip'\n",
    "answer = pd.DataFrame({'user_id': [1, 2, 3], 'metric': [1.0, 2.0, 2.2]})\n",
    "result = process_outliers(metrics, bounds, outlier_process_type)\n",
    "if answer.equals(result):\n",
    "    print(f'test case 02: passed')\n",
    "else:\n",
    "    print(f'test case 02: failed')\n"
   ],
   "outputs": [
    {
     "name": "stdout",
     "output_type": "stream",
     "text": [
      "test case 01: passed\n",
      "test case 02: passed\n"
     ]
    }
   ],
   "execution_count": 7
  }
 ],
 "metadata": {
  "kernelspec": {
   "display_name": "Python 3 (ipykernel)",
   "language": "python",
   "name": "python3"
  },
  "language_info": {
   "codemirror_mode": {
    "name": "ipython",
    "version": 3
   },
   "file_extension": ".py",
   "mimetype": "text/x-python",
   "name": "python",
   "nbconvert_exporter": "python",
   "pygments_lexer": "ipython3",
   "version": "3.12.7"
  }
 },
 "nbformat": 4,
 "nbformat_minor": 5
}
