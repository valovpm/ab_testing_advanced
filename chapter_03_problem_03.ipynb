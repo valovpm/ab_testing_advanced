{
 "cells": [
  {
   "metadata": {},
   "cell_type": "markdown",
   "source": [
    "\n",
    "# PARLA\n",
    "\n",
    "## Problem\n",
    "- Estimate the minimal required group size for an experiment:\n",
    "    - Experiment includes customers who made a purchase during the experiment period.\n",
    "    - Experiment period is the week of February 21 to February 28.\n",
    "    - Data sample should include events from the half-open interval \\[datetime(2022, 2, 21), datetime(2022, 2, 28))\n",
    "    - Use the data from the file `2022-04-01T12_df_sales.csv` to solve the task.\n",
    "    - Experiment parameters:\n",
    "        - Metric — average revenue per user (ARPU) during the experiment\n",
    "        - Duration — one week\n",
    "        - Significance level — 0.05\n",
    "        - Acceptable probability of Type II error — 0.1\n",
    "        - Expected effect — 20 rubles\n",
    "    - As your answer, enter the required group size, rounded to the nearest ten (round(x, -1)).\n",
    "    - Use formula:\n",
    "\n",
    "$$\n",
    "n > \\frac{ [ {\\Phi}^{-1}(1 - \\alpha/2) + {\\Phi}^{-1}(1 - \\beta) ]^2 (\\sigma^{2}_{X} + \\sigma^{2}_{Y}) }{ \\epsilon^2 }\n",
    "$$\n",
    "\n",
    "- For the same experiment:\n",
    "    - Generate control and experimental groups\n",
    "    - Estimate Minimal Detectable Effect (MDE), by using the generated groups and the following formula:\n",
    "\n",
    "$$\n",
    "\\epsilon > \\sqrt{ \\frac{ [ {\\Phi}^{-1}(1 - \\alpha/2) + {\\Phi}^{-1}(1 - \\beta) ]^2 (\\sigma^{2}_{X} + \\sigma^{2}_{Y}) }{ n } }\n",
    "$$\n",
    "\n",
    "## Action\n",
    "- To estimate the required group size for the experiment, I:\n",
    "    - Specified experiment parameters\n",
    "    - Loaded, converted, filtered, grouped, and aggregated sales data\n",
    "    - Calculated variance of the sales data\n",
    "    - Estimated sample size using the formula for t-test above\n",
    "- To estimate MDE for the experiment, I:\n",
    "    - Generated the control group (by randomly sampling the sales dataframe)\n",
    "    - Generated the experimental group (by subtracting control group from the sales dataframe)\n",
    "    - Estimated MDE using the formula for t-test above\n",
    "\n",
    "## Result\n",
    "- The minimal required group size is correctly estimated\n",
    "- MDE is also correctly estimated\n",
    "\n",
    "## Learning\n",
    "- I revised relevant Python and Pandas functionality\n",
    "- I learned and applied the formula for estimating the sample size for a t-test\n",
    "- I learned and applied the formula for estimating MDE for a t-test\n",
    "- I learned that both minimal sample size and MDE are connected by the same formula and both can be deduced from it\n",
    "\n",
    "## Application\n",
    "- I can apply relevant Python and Pandas functionality for similar data-related problems\n",
    "- I can estimate the necessary sample size for a t-test\n",
    "- I can estimate MDE for a t-test\n"
   ],
   "id": "f76061ffee50c078"
  },
  {
   "cell_type": "code",
   "id": "40c11a12-900c-4224-aeca-a07c8003bb9f",
   "metadata": {
    "ExecuteTime": {
     "end_time": "2025-05-15T21:07:36.536204Z",
     "start_time": "2025-05-15T21:07:36.532978Z"
    }
   },
   "source": [
    "\n",
    "from datetime import datetime\n",
    "\n",
    "import numpy as np\n",
    "import pandas as pd\n",
    "import scipy as sp\n"
   ],
   "outputs": [],
   "execution_count": 38
  },
  {
   "cell_type": "code",
   "id": "fb6e8bf5-507e-4962-9be5-c15a27df51fc",
   "metadata": {
    "ExecuteTime": {
     "end_time": "2025-05-15T21:07:36.587093Z",
     "start_time": "2025-05-15T21:07:36.582266Z"
    }
   },
   "source": [
    "\n",
    "# specify experiment parameters\n",
    "alpha = 0.05\n",
    "beta = 0.1\n",
    "effect = 20\n",
    "date_begin = datetime(2022, 2, 21)\n",
    "date_end = datetime(2022, 2, 28)\n"
   ],
   "outputs": [],
   "execution_count": 39
  },
  {
   "cell_type": "code",
   "id": "c439bf94-11af-4c8c-a554-f1a4a06f7dc3",
   "metadata": {
    "ExecuteTime": {
     "end_time": "2025-05-15T21:07:36.936562Z",
     "start_time": "2025-05-15T21:07:36.638382Z"
    }
   },
   "source": [
    "\n",
    "# load, convert, filter, group, and aggregate sales data\n",
    "df_sales = pd.read_csv('2022-04-01T12_df_sales.csv')\n",
    "df_sales.date = pd.to_datetime(df_sales.date)\n",
    "df_sales = df_sales[(datetime(2022, 2, 21) <= df_sales.date) & (df_sales.date < datetime(2022, 2, 28))]\n",
    "df_sales = df_sales.groupby(['user_id'])['price'].sum().reset_index()\n",
    "df_sales.head()\n"
   ],
   "outputs": [
    {
     "data": {
      "text/plain": [
       "  user_id  price\n",
       "0  00045f    720\n",
       "1  0006bb   1260\n",
       "2  000b52   3480\n",
       "3  000cbb    780\n",
       "4  000cf0    840"
      ],
      "text/html": [
       "<div>\n",
       "<style scoped>\n",
       "    .dataframe tbody tr th:only-of-type {\n",
       "        vertical-align: middle;\n",
       "    }\n",
       "\n",
       "    .dataframe tbody tr th {\n",
       "        vertical-align: top;\n",
       "    }\n",
       "\n",
       "    .dataframe thead th {\n",
       "        text-align: right;\n",
       "    }\n",
       "</style>\n",
       "<table border=\"1\" class=\"dataframe\">\n",
       "  <thead>\n",
       "    <tr style=\"text-align: right;\">\n",
       "      <th></th>\n",
       "      <th>user_id</th>\n",
       "      <th>price</th>\n",
       "    </tr>\n",
       "  </thead>\n",
       "  <tbody>\n",
       "    <tr>\n",
       "      <th>0</th>\n",
       "      <td>00045f</td>\n",
       "      <td>720</td>\n",
       "    </tr>\n",
       "    <tr>\n",
       "      <th>1</th>\n",
       "      <td>0006bb</td>\n",
       "      <td>1260</td>\n",
       "    </tr>\n",
       "    <tr>\n",
       "      <th>2</th>\n",
       "      <td>000b52</td>\n",
       "      <td>3480</td>\n",
       "    </tr>\n",
       "    <tr>\n",
       "      <th>3</th>\n",
       "      <td>000cbb</td>\n",
       "      <td>780</td>\n",
       "    </tr>\n",
       "    <tr>\n",
       "      <th>4</th>\n",
       "      <td>000cf0</td>\n",
       "      <td>840</td>\n",
       "    </tr>\n",
       "  </tbody>\n",
       "</table>\n",
       "</div>"
      ]
     },
     "execution_count": 40,
     "metadata": {},
     "output_type": "execute_result"
    }
   ],
   "execution_count": 40
  },
  {
   "cell_type": "code",
   "id": "f267d504-f30a-4321-a76c-c9fb29b17d2c",
   "metadata": {
    "ExecuteTime": {
     "end_time": "2025-05-15T21:07:36.981235Z",
     "start_time": "2025-05-15T21:07:36.976909Z"
    }
   },
   "source": [
    "\n",
    "# calculate variance of the sample\n",
    "price_var = df_sales.price.var()\n",
    "print(f'price_var: {price_var}')\n",
    "\n",
    "# calculate sample size using the formula for t-test\n",
    "n = ( sp.stats.norm.ppf(1 - alpha / 2) + sp.stats.norm.ppf(1 - beta) )**2 * (price_var + price_var) / effect**2\n",
    "\n",
    "# correct answer is 34570\n",
    "print(f'sample size: {round(n, -1)}')\n"
   ],
   "outputs": [
    {
     "name": "stdout",
     "output_type": "stream",
     "text": [
      "price_var: 658013.5419915788\n",
      "sample size: 34570.0\n"
     ]
    }
   ],
   "execution_count": 41
  },
  {
   "metadata": {
    "ExecuteTime": {
     "end_time": "2025-05-15T21:07:37.008135Z",
     "start_time": "2025-05-15T21:07:36.997458Z"
    }
   },
   "cell_type": "code",
   "source": [
    "\n",
    "# generate control group\n",
    "group_a = df_sales.sample(frac=0.5, random_state=0)\n",
    "group_a.describe()\n"
   ],
   "id": "5f27442b9f413b3c",
   "outputs": [
    {
     "data": {
      "text/plain": [
       "              price\n",
       "count  12420.000000\n",
       "mean    1239.707729\n",
       "std      811.514161\n",
       "min      540.000000\n",
       "25%      720.000000\n",
       "50%      840.000000\n",
       "75%     1530.000000\n",
       "max     7560.000000"
      ],
      "text/html": [
       "<div>\n",
       "<style scoped>\n",
       "    .dataframe tbody tr th:only-of-type {\n",
       "        vertical-align: middle;\n",
       "    }\n",
       "\n",
       "    .dataframe tbody tr th {\n",
       "        vertical-align: top;\n",
       "    }\n",
       "\n",
       "    .dataframe thead th {\n",
       "        text-align: right;\n",
       "    }\n",
       "</style>\n",
       "<table border=\"1\" class=\"dataframe\">\n",
       "  <thead>\n",
       "    <tr style=\"text-align: right;\">\n",
       "      <th></th>\n",
       "      <th>price</th>\n",
       "    </tr>\n",
       "  </thead>\n",
       "  <tbody>\n",
       "    <tr>\n",
       "      <th>count</th>\n",
       "      <td>12420.000000</td>\n",
       "    </tr>\n",
       "    <tr>\n",
       "      <th>mean</th>\n",
       "      <td>1239.707729</td>\n",
       "    </tr>\n",
       "    <tr>\n",
       "      <th>std</th>\n",
       "      <td>811.514161</td>\n",
       "    </tr>\n",
       "    <tr>\n",
       "      <th>min</th>\n",
       "      <td>540.000000</td>\n",
       "    </tr>\n",
       "    <tr>\n",
       "      <th>25%</th>\n",
       "      <td>720.000000</td>\n",
       "    </tr>\n",
       "    <tr>\n",
       "      <th>50%</th>\n",
       "      <td>840.000000</td>\n",
       "    </tr>\n",
       "    <tr>\n",
       "      <th>75%</th>\n",
       "      <td>1530.000000</td>\n",
       "    </tr>\n",
       "    <tr>\n",
       "      <th>max</th>\n",
       "      <td>7560.000000</td>\n",
       "    </tr>\n",
       "  </tbody>\n",
       "</table>\n",
       "</div>"
      ]
     },
     "execution_count": 42,
     "metadata": {},
     "output_type": "execute_result"
    }
   ],
   "execution_count": 42
  },
  {
   "metadata": {
    "ExecuteTime": {
     "end_time": "2025-05-15T21:07:37.182195Z",
     "start_time": "2025-05-15T21:07:37.137573Z"
    }
   },
   "cell_type": "code",
   "source": [
    "\n",
    "# generate experimental group\n",
    "group_b = df_sales.merge(group_a, how='left', indicator=True).query('_merge == \"left_only\"').drop(columns=['_merge'])\n",
    "group_b.describe()\n"
   ],
   "id": "dab3ee337c0b2959",
   "outputs": [
    {
     "data": {
      "text/plain": [
       "              price\n",
       "count  12420.000000\n",
       "mean    1229.666667\n",
       "std      810.847963\n",
       "min      540.000000\n",
       "25%      720.000000\n",
       "50%      840.000000\n",
       "75%     1500.000000\n",
       "max     8820.000000"
      ],
      "text/html": [
       "<div>\n",
       "<style scoped>\n",
       "    .dataframe tbody tr th:only-of-type {\n",
       "        vertical-align: middle;\n",
       "    }\n",
       "\n",
       "    .dataframe tbody tr th {\n",
       "        vertical-align: top;\n",
       "    }\n",
       "\n",
       "    .dataframe thead th {\n",
       "        text-align: right;\n",
       "    }\n",
       "</style>\n",
       "<table border=\"1\" class=\"dataframe\">\n",
       "  <thead>\n",
       "    <tr style=\"text-align: right;\">\n",
       "      <th></th>\n",
       "      <th>price</th>\n",
       "    </tr>\n",
       "  </thead>\n",
       "  <tbody>\n",
       "    <tr>\n",
       "      <th>count</th>\n",
       "      <td>12420.000000</td>\n",
       "    </tr>\n",
       "    <tr>\n",
       "      <th>mean</th>\n",
       "      <td>1229.666667</td>\n",
       "    </tr>\n",
       "    <tr>\n",
       "      <th>std</th>\n",
       "      <td>810.847963</td>\n",
       "    </tr>\n",
       "    <tr>\n",
       "      <th>min</th>\n",
       "      <td>540.000000</td>\n",
       "    </tr>\n",
       "    <tr>\n",
       "      <th>25%</th>\n",
       "      <td>720.000000</td>\n",
       "    </tr>\n",
       "    <tr>\n",
       "      <th>50%</th>\n",
       "      <td>840.000000</td>\n",
       "    </tr>\n",
       "    <tr>\n",
       "      <th>75%</th>\n",
       "      <td>1500.000000</td>\n",
       "    </tr>\n",
       "    <tr>\n",
       "      <th>max</th>\n",
       "      <td>8820.000000</td>\n",
       "    </tr>\n",
       "  </tbody>\n",
       "</table>\n",
       "</div>"
      ]
     },
     "execution_count": 43,
     "metadata": {},
     "output_type": "execute_result"
    }
   ],
   "execution_count": 43
  },
  {
   "metadata": {
    "ExecuteTime": {
     "end_time": "2025-05-15T21:07:37.281318Z",
     "start_time": "2025-05-15T21:07:37.273466Z"
    }
   },
   "cell_type": "code",
   "source": [
    "\n",
    "# calculate Minimal Detectable Effect (MDE)\n",
    "ppf1 = sp.stats.norm.ppf(1 - alpha / 2)\n",
    "ppf2 = sp.stats.norm.ppf(1 - beta)\n",
    "mde = np.sqrt( (ppf1 + ppf2)**2 * (group_a.price.var() + group_b.price.var()) / len(group_a) )\n",
    "mde\n"
   ],
   "id": "be1226b3251c1465",
   "outputs": [
    {
     "data": {
      "text/plain": [
       "np.float64(33.36722953402226)"
      ]
     },
     "execution_count": 44,
     "metadata": {},
     "output_type": "execute_result"
    }
   ],
   "execution_count": 44
  }
 ],
 "metadata": {
  "kernelspec": {
   "display_name": "Python 3 (ipykernel)",
   "language": "python",
   "name": "python3"
  },
  "language_info": {
   "codemirror_mode": {
    "name": "ipython",
    "version": 3
   },
   "file_extension": ".py",
   "mimetype": "text/x-python",
   "name": "python",
   "nbconvert_exporter": "python",
   "pygments_lexer": "ipython3",
   "version": "3.12.7"
  }
 },
 "nbformat": 4,
 "nbformat_minor": 5
}
