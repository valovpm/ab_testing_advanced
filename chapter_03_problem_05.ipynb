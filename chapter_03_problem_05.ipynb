{
 "cells": [
  {
   "metadata": {},
   "cell_type": "markdown",
   "source": [
    "\n",
    "# PARLA\n",
    "\n",
    "## Problem\n",
    "- Write a function to estimate the required minimal sample size to test the hypothesis of equal means\n",
    "    - For more info see function's docstring below\n",
    "    - To calculate minimal sample size use formula:\n",
    "\n",
    "$$\n",
    "n > \\frac{ [ {\\Phi}^{-1}(1 - \\alpha/2) + {\\Phi}^{-1}(1 - \\beta) ]^2 (\\sigma^{2}_{X} + \\sigma^{2}_{Y}) }{ \\epsilon^2 }\n",
    "$$\n",
    "\n",
    "## Action\n",
    "- To calculate the minimal sample size I:\n",
    "    - calculated z-scores using alpha and beta\n",
    "    - calculated effect size\n",
    "    - calculated minimal sample size using the formula\n",
    "    - calculated the average number of observations per user\n",
    "    - adjusted the minimal sample size by dividing by the average number of observations per user\n",
    "\n",
    "## Result\n",
    "- The function is implemented and successfully passed all tests\n",
    "\n",
    "## Learning\n",
    "- I revised relevant Python and Pandas functionality\n",
    "- I learned and applied the formula for estimating the sample size for a t-test\n",
    "- I learned that it is possible to adjust the minimal sample size by dividing it by the average number of observations per user\n",
    "\n",
    "## Application\n",
    "- I can apply relevant Python and Pandas functionality for similar data-related problems\n",
    "- I can estimate the minimal sample size for a t-test\n",
    "- I can adjust the minimal sample size, using the average number of observations per user\n"
   ],
   "id": "bb649713f9ea4b69"
  },
  {
   "cell_type": "code",
   "id": "9d785249fb7c2451",
   "metadata": {
    "ExecuteTime": {
     "end_time": "2025-05-15T20:58:21.483220Z",
     "start_time": "2025-05-15T20:58:20.709122Z"
    }
   },
   "source": [
    "\n",
    "import numpy as np\n",
    "import pandas as pd\n",
    "from scipy import stats\n"
   ],
   "outputs": [],
   "execution_count": 2
  },
  {
   "metadata": {
    "ExecuteTime": {
     "end_time": "2025-05-15T20:58:21.492582Z",
     "start_time": "2025-05-15T20:58:21.487100Z"
    }
   },
   "cell_type": "code",
   "source": [
    "\n",
    "def estimate_sample_size(\n",
    "    metrics: pd.DataFrame,\n",
    "    effect: float,\n",
    "    alpha: float,\n",
    "    beta: float\n",
    ") -> int:\n",
    "    \"\"\"\n",
    "    Estimate the required minimal sample size to test the hypothesis of equal means.\n",
    "\n",
    "    Notes:\n",
    "    - Effect size is specified as a percentage.\n",
    "    - Standard deviation should be computed using np.std with default parameters.\n",
    "    - Do not perform aggregation inside the function.\n",
    "    - Mean and standard deviation must be calculated directly from the metric column.\n",
    "\n",
    "    For metrics with one value per user, the sample size is computed directly using formula.\n",
    "    For metrics with multiple values per user (e.g., response_time),\n",
    "    the required number of observations is adjusted by dividing by the average number\n",
    "    of observations per user.\n",
    "\n",
    "    Example:\n",
    "    If 'metrics' contains 1000 observations for 100 unique users,\n",
    "    and the required number of observations is 302,\n",
    "    then the group size will be 31 users (because 1000/100 = 10 obs/user,\n",
    "    and 302 / 10 = 30.2, rounded up to 31).\n",
    "\n",
    "    :param metrics: DataFrame with columns ['user_id', 'metric'].\n",
    "    :param effect: Expected effect size (e.g., 3 for 3% increase of the mean value).\n",
    "    :param alpha: Significance level.\n",
    "    :param beta: Probability of Type II error (1 - power).\n",
    "    :return: Required sample size (number of users per group).\n",
    "    \"\"\"\n",
    "\n",
    "    # calculate z-scores using alpha and beta\n",
    "    z_alpha = stats.norm.ppf(1 - alpha/2)\n",
    "    z_beta = stats.norm.ppf(1 - beta)\n",
    "\n",
    "    # calculate effect size\n",
    "    effect_percents = effect / 100\n",
    "    e = np.mean(metrics.metric) * effect_percents\n",
    "\n",
    "    # calculate minimal sample size using formula\n",
    "    n = (z_alpha + z_beta)**2 * (np.std(metrics.metric)**2 * 2) / e**2\n",
    "\n",
    "    # calculate average number of observations per user\n",
    "    observations_per_user = metrics.groupby(['user_id'])['metric'].count().mean()\n",
    "\n",
    "    # adjust the minimal sample size by dividing by the average number of observations per user\n",
    "    # if there is only 1 observation per user, nothing will change\n",
    "    # otherwise, the minimal sample size will be adjusted\n",
    "    n = n / observations_per_user\n",
    "\n",
    "    return np.ceil(n).astype(int)\n",
    "\n",
    "\n"
   ],
   "id": "40c11a12-900c-4224-aeca-a07c8003bb9f",
   "outputs": [],
   "execution_count": 3
  },
  {
   "cell_type": "code",
   "id": "2c5693d5-868c-4eb9-b140-9166a54977fa",
   "metadata": {
    "ExecuteTime": {
     "end_time": "2025-05-15T20:58:21.551322Z",
     "start_time": "2025-05-15T20:58:21.540135Z"
    }
   },
   "source": [
    "\n",
    "# test_01\n",
    "metrics = pd.DataFrame({\n",
    "    'user_id': np.arange(100),\n",
    "    'metric': np.linspace(500, 1490, 100)\n",
    "})\n",
    "effect, alpha, beta = 3, 0.05, 0.1\n",
    "sample_size = estimate_sample_size(metrics, effect, alpha, beta)\n",
    "print(f'test_01: {sample_size == 1966}')\n",
    "\n",
    "# test_02\n",
    "metrics = pd.DataFrame({\n",
    "    'user_id': np.arange(100) % 30,\n",
    "    'metric': np.linspace(500, 1490, 100)\n",
    "})\n",
    "effect, alpha, beta = 3, 0.05, 0.1\n",
    "sample_size = estimate_sample_size(metrics, effect, alpha, beta)\n",
    "print(f'test_02: {sample_size == 590}')\n"
   ],
   "outputs": [
    {
     "name": "stdout",
     "output_type": "stream",
     "text": [
      "test_01: True\n",
      "test_02: True\n"
     ]
    }
   ],
   "execution_count": 4
  }
 ],
 "metadata": {
  "kernelspec": {
   "display_name": "Python 3 (ipykernel)",
   "language": "python",
   "name": "python3"
  },
  "language_info": {
   "codemirror_mode": {
    "name": "ipython",
    "version": 3
   },
   "file_extension": ".py",
   "mimetype": "text/x-python",
   "name": "python",
   "nbconvert_exporter": "python",
   "pygments_lexer": "ipython3",
   "version": "3.12.7"
  }
 },
 "nbformat": 4,
 "nbformat_minor": 5
}
