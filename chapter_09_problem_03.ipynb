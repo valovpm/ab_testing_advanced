{
 "cells": [
  {
   "metadata": {},
   "cell_type": "markdown",
   "source": [
    "\n",
    "# PARLA\n",
    "\n",
    "## Problem\n",
    "Implement a function that calculates CUPED-metric based on two dataframes:\n",
    "- a dataframe, containing metric values during the experiment\n",
    "- a dataframe, containing covariate values\n",
    "\n",
    "## Action\n",
    "- extracted covariate values and metric values from input dataframes\n",
    "- calculated covariance and variance\n",
    "- calculated theta\n",
    "- adjusted and rounded metric values\n",
    "\n",
    "## Result\n",
    "The implemented function successfully passed all tests.\n",
    "\n",
    "## Learning\n",
    "- I revised relevant Python, Numpy, and Pandas functionality\n",
    "- I learned how to perform CUPED adjustment of experimental data\n",
    "\n",
    "## Application\n",
    "- I can apply relevant Python, Numpy, and Pandas functionality for similar data-related problems\n",
    "- I can apply CUPED adjustment for real-world AB-testing data\n"
   ],
   "id": "ef6c5c093a8a188e"
  },
  {
   "cell_type": "code",
   "id": "faa887525ba98f8e",
   "metadata": {
    "ExecuteTime": {
     "end_time": "2025-05-29T17:32:01.470562Z",
     "start_time": "2025-05-29T17:32:01.466633Z"
    }
   },
   "source": [
    "\n",
    "import numpy as np\n",
    "import pandas as pd\n"
   ],
   "outputs": [],
   "execution_count": 6
  },
  {
   "metadata": {
    "ExecuteTime": {
     "end_time": "2025-05-29T17:32:01.523263Z",
     "start_time": "2025-05-29T17:32:01.517008Z"
    }
   },
   "cell_type": "code",
   "source": [
    "\n",
    "def calculate_cuped_metric(\n",
    "        df_metric: pd.DataFrame,\n",
    "        df_cov: pd.DataFrame\n",
    ") -> pd.DataFrame:\n",
    "    \"\"\"\n",
    "    Calculates CUPED-adjusted metric values.\n",
    "\n",
    "    :param df_metric: A DataFrame with metric values during the experiment,\n",
    "        containing columns ['user_id', 'metric'].\n",
    "    :param df_cov: A DataFrame with covariate values,\n",
    "        containing columns ['user_id', 'cov'].\n",
    "\n",
    "    :return: A DataFrame with CUPED-adjusted metric values,\n",
    "        containing columns ['user_id', 'metric'].\n",
    "    \"\"\"\n",
    "\n",
    "    # extract covariate values and metric values from input dataframes\n",
    "    x = df_cov['cov']\n",
    "    y = df_metric['metric']\n",
    "    df = pd.merge(df_metric, df_cov, on='user_id')\n",
    "\n",
    "    # calculate covariance and variance\n",
    "    covariance = np.cov(df['cov'], df['metric'])[0, 1]\n",
    "    variance = np.var(df['cov'])\n",
    "\n",
    "    # calculate theta\n",
    "    theta = covariance / variance\n",
    "\n",
    "    # adjust and round metric values\n",
    "    df['metric'] = df['metric'] - theta * (df['cov'] - np.mean(df['cov']))\n",
    "    df['metric'] = np.round(df['metric'], 2)\n",
    "    del df['cov']\n",
    "    return df\n"
   ],
   "id": "d35af5da266a5850",
   "outputs": [],
   "execution_count": 7
  },
  {
   "metadata": {
    "collapsed": true,
    "ExecuteTime": {
     "end_time": "2025-05-29T17:32:01.581321Z",
     "start_time": "2025-05-29T17:32:01.571822Z"
    }
   },
   "cell_type": "code",
   "source": [
    "\n",
    "# testing function calculate_cuped_metric()\n",
    "df_metric = pd.DataFrame({'user_id': [1, 2, 3], 'metric': [2000, 2500, 3000]})\n",
    "df_cov = pd.DataFrame({'user_id': [1, 2, 3], 'cov': [1100, 1500, 0]})\n",
    "df_answer = pd.DataFrame({'user_id': [1, 2, 3], 'metric': [2159.53, 2933.01, 2407.46]})\n",
    "df_result = calculate_cuped_metric(df_metric, df_cov)\n",
    "\n",
    "if df_answer.equals(df_result):\n",
    "    print('test case 01: passed')\n",
    "else:\n",
    "    print('test case 01: failed')\n"
   ],
   "id": "initial_id",
   "outputs": [
    {
     "name": "stdout",
     "output_type": "stream",
     "text": [
      "test case 01: passed\n"
     ]
    }
   ],
   "execution_count": 8
  }
 ],
 "metadata": {
  "kernelspec": {
   "display_name": "Python 3",
   "language": "python",
   "name": "python3"
  },
  "language_info": {
   "codemirror_mode": {
    "name": "ipython",
    "version": 2
   },
   "file_extension": ".py",
   "mimetype": "text/x-python",
   "name": "python",
   "nbconvert_exporter": "python",
   "pygments_lexer": "ipython2",
   "version": "2.7.6"
  }
 },
 "nbformat": 4,
 "nbformat_minor": 5
}
